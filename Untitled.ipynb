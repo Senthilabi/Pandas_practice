{
 "cells": [
  {
   "cell_type": "code",
   "execution_count": 2,
   "id": "6f654927",
   "metadata": {},
   "outputs": [],
   "source": [
    "import pandas as pd"
   ]
  },
  {
   "cell_type": "code",
   "execution_count": 25,
   "id": "7436933f",
   "metadata": {},
   "outputs": [
    {
     "data": {
      "text/plain": [
       "\"\\ncol=df.columns\\ndf[col[1:]]=df[col[1:]].round(2)\\n#df=sorted(df)#,key=col[1])\\n#df[col[1:]]\\ndf.sort_values(by=['TSP Score'],inplace=True,ascending=False,)\\ndf=df.reset_index(drop=True)\\ndf\\n#st.table(df)\\n\""
      ]
     },
     "execution_count": 25,
     "metadata": {},
     "output_type": "execute_result"
    }
   ],
   "source": [
    "#@st.cache_resource\n",
    "def data_load ( filename):\n",
    "    return pd.ExcelFile(filename)\n",
    "excel_file='Player Data1.xlsx'\n",
    "xl=data_load(excel_file)\n",
    "\n",
    "xlsheets=xl.sheet_names\n",
    "\n",
    "text_area_data = pd.read_excel(excel_file, sheet_name=xlsheets[0])\n",
    "circle_score_data = pd.read_excel(excel_file, sheet_name=xlsheets[1])\n",
    "radar_chart1_data = pd.read_excel(excel_file, sheet_name=xlsheets[2])\n",
    "radar_chart2_data = pd.read_excel(excel_file, sheet_name=xlsheets[3])\n",
    "radar_chart3_data = pd.read_excel(excel_file, sheet_name=xlsheets[5])\n",
    "radar_chart4_data = pd.read_excel(excel_file, sheet_name=xlsheets[6])\n",
    "Mid_text_area_data = pd.read_excel(excel_file, sheet_name=xlsheets[4])\n",
    "circle_score_data['TSP Score']=circle_score_data['TSP Score']*100\n",
    "df=circle_score_data.merge(radar_chart1_data, how ='outer',on='Player')\n",
    "\n",
    "df=df.merge(radar_chart2_data, how ='outer',on='Player')\n",
    "df=df.merge(radar_chart3_data,how='outer',on='Player')\n",
    "df=df.merge(radar_chart4_data,how='outer',on='Player')\n",
    "\n",
    "col=df.columns\n",
    "df[col[1:]]=df[col[1:]].round(2)\n",
    "df.sort_values(by=['TSP Score'],inplace=True)\n",
    "df=df.reset_index(drop=True)\n",
    "df\n",
    "\"\"\"\n",
    "col=df.columns\n",
    "df[col[1:]]=df[col[1:]].round(2)\n",
    "#df=sorted(df)#,key=col[1])\n",
    "#df[col[1:]]\n",
    "df.sort_values(by=['TSP Score'],inplace=True,ascending=False,)\n",
    "df=df.reset_index(drop=True)\n",
    "df\n",
    "#st.table(df)\n",
    "\"\"\""
   ]
  },
  {
   "cell_type": "raw",
   "id": "2772bbe6",
   "metadata": {},
   "source": []
  },
  {
   "cell_type": "code",
   "execution_count": null,
   "id": "96273722",
   "metadata": {},
   "outputs": [],
   "source": []
  }
 ],
 "metadata": {
  "kernelspec": {
   "display_name": "Python 3 (ipykernel)",
   "language": "python",
   "name": "python3"
  },
  "language_info": {
   "codemirror_mode": {
    "name": "ipython",
    "version": 3
   },
   "file_extension": ".py",
   "mimetype": "text/x-python",
   "name": "python",
   "nbconvert_exporter": "python",
   "pygments_lexer": "ipython3",
   "version": "3.10.9"
  }
 },
 "nbformat": 4,
 "nbformat_minor": 5
}
