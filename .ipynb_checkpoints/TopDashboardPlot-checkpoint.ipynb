{
 "cells": [
  {
   "cell_type": "code",
   "execution_count": 3,
   "id": "5ffc32e4",
   "metadata": {},
   "outputs": [],
   "source": [
    "import pandas as pd\n",
    "import plotly.express as px\n",
    "import plotly.graph_objects as go\n",
    "import os"
   ]
  },
  {
   "cell_type": "code",
   "execution_count": 4,
   "id": "869480f2",
   "metadata": {},
   "outputs": [
    {
     "data": {
      "text/plain": [
       "['.git',\n",
       " '.ipynb_checkpoints',\n",
       " 'FBDv2.py',\n",
       " 'FBDv3.py',\n",
       " 'FB_Dashboard.py',\n",
       " 'FB_Dashboard2.py',\n",
       " 'Player Data1.xlsx',\n",
       " 'Player Data2.xlsx',\n",
       " 'README.md',\n",
       " 'requirements.txt',\n",
       " 'TopDashboardPlot.ipynb',\n",
       " 'trial.py',\n",
       " 'Untitled.ipynb',\n",
       " '~$Player Data2.xlsx']"
      ]
     },
     "execution_count": 4,
     "metadata": {},
     "output_type": "execute_result"
    }
   ],
   "source": [
    "os.listdir()"
   ]
  },
  {
   "cell_type": "code",
   "execution_count": 6,
   "id": "47f2ae3b",
   "metadata": {},
   "outputs": [],
   "source": [
    "xl=pd.ExcelFile('Player Data2.xlsx')"
   ]
  },
  {
   "cell_type": "code",
   "execution_count": 8,
   "id": "8e5f0575",
   "metadata": {},
   "outputs": [
    {
     "data": {
      "text/plain": [
       "['Upper Text',\n",
       " 'TSP Card',\n",
       " 'Upper Left Radar',\n",
       " 'Upper Right Radar',\n",
       " 'Middle Text',\n",
       " 'Lower Left Radar',\n",
       " 'Lower Right Radar',\n",
       " 'Dashboard']"
      ]
     },
     "execution_count": 8,
     "metadata": {},
     "output_type": "execute_result"
    }
   ],
   "source": [
    "sheets=xl.sheet_names\n",
    "sheets"
   ]
  },
  {
   "cell_type": "code",
   "execution_count": 94,
   "id": "de09aa7b",
   "metadata": {},
   "outputs": [
    {
     "data": {
      "text/html": [
       "<div>\n",
       "<style scoped>\n",
       "    .dataframe tbody tr th:only-of-type {\n",
       "        vertical-align: middle;\n",
       "    }\n",
       "\n",
       "    .dataframe tbody tr th {\n",
       "        vertical-align: top;\n",
       "    }\n",
       "\n",
       "    .dataframe thead th {\n",
       "        text-align: right;\n",
       "    }\n",
       "</style>\n",
       "<table border=\"1\" class=\"dataframe\">\n",
       "  <thead>\n",
       "    <tr style=\"text-align: right;\">\n",
       "      <th></th>\n",
       "      <th>Position</th>\n",
       "      <th>Reference</th>\n",
       "      <th>Primary Attributes</th>\n",
       "      <th>Secondary Attributes</th>\n",
       "      <th>Boosted Attributes</th>\n",
       "      <th>Discounted Attributes</th>\n",
       "    </tr>\n",
       "  </thead>\n",
       "  <tbody>\n",
       "    <tr>\n",
       "      <th>0</th>\n",
       "      <td>Left Wing</td>\n",
       "      <td>Ideal Player</td>\n",
       "      <td>Attacking</td>\n",
       "      <td>Shooting</td>\n",
       "      <td>Coming Soon</td>\n",
       "      <td>Coming Soon</td>\n",
       "    </tr>\n",
       "    <tr>\n",
       "      <th>1</th>\n",
       "      <td>NaN</td>\n",
       "      <td>NaN</td>\n",
       "      <td>Passing</td>\n",
       "      <td>Defense</td>\n",
       "      <td>NaN</td>\n",
       "      <td>NaN</td>\n",
       "    </tr>\n",
       "    <tr>\n",
       "      <th>2</th>\n",
       "      <td>NaN</td>\n",
       "      <td>NaN</td>\n",
       "      <td>Pass Types</td>\n",
       "      <td>Misc</td>\n",
       "      <td>NaN</td>\n",
       "      <td>NaN</td>\n",
       "    </tr>\n",
       "    <tr>\n",
       "      <th>3</th>\n",
       "      <td>NaN</td>\n",
       "      <td>NaN</td>\n",
       "      <td>Goal CAs</td>\n",
       "      <td>NaN</td>\n",
       "      <td>NaN</td>\n",
       "      <td>NaN</td>\n",
       "    </tr>\n",
       "    <tr>\n",
       "      <th>4</th>\n",
       "      <td>NaN</td>\n",
       "      <td>NaN</td>\n",
       "      <td>Shot Cas</td>\n",
       "      <td>NaN</td>\n",
       "      <td>NaN</td>\n",
       "      <td>NaN</td>\n",
       "    </tr>\n",
       "    <tr>\n",
       "      <th>5</th>\n",
       "      <td>NaN</td>\n",
       "      <td>NaN</td>\n",
       "      <td>Possession</td>\n",
       "      <td>NaN</td>\n",
       "      <td>NaN</td>\n",
       "      <td>NaN</td>\n",
       "    </tr>\n",
       "  </tbody>\n",
       "</table>\n",
       "</div>"
      ],
      "text/plain": [
       "    Position     Reference Primary Attributes Secondary Attributes  \\\n",
       "0  Left Wing  Ideal Player          Attacking             Shooting   \n",
       "1        NaN           NaN            Passing              Defense   \n",
       "2        NaN           NaN         Pass Types                 Misc   \n",
       "3        NaN           NaN           Goal CAs                  NaN   \n",
       "4        NaN           NaN           Shot Cas                  NaN   \n",
       "5        NaN           NaN         Possession                  NaN   \n",
       "\n",
       "  Boosted Attributes Discounted Attributes  \n",
       "0        Coming Soon           Coming Soon  \n",
       "1                NaN                   NaN  \n",
       "2                NaN                   NaN  \n",
       "3                NaN                   NaN  \n",
       "4                NaN                   NaN  \n",
       "5                NaN                   NaN  "
      ]
     },
     "execution_count": 94,
     "metadata": {},
     "output_type": "execute_result"
    }
   ],
   "source": [
    "tdf=pd.read_excel('Player Data2.xlsx',sheet_name='Upper Text')\n",
    "tdf"
   ]
  },
  {
   "cell_type": "code",
   "execution_count": 103,
   "id": "035918e4",
   "metadata": {},
   "outputs": [
    {
     "data": {
      "text/html": [
       "<div>\n",
       "<style scoped>\n",
       "    .dataframe tbody tr th:only-of-type {\n",
       "        vertical-align: middle;\n",
       "    }\n",
       "\n",
       "    .dataframe tbody tr th {\n",
       "        vertical-align: top;\n",
       "    }\n",
       "\n",
       "    .dataframe thead th {\n",
       "        text-align: right;\n",
       "    }\n",
       "</style>\n",
       "<table border=\"1\" class=\"dataframe\">\n",
       "  <thead>\n",
       "    <tr style=\"text-align: right;\">\n",
       "      <th></th>\n",
       "      <th>Player</th>\n",
       "      <th>Age</th>\n",
       "      <th>Preferred Feet</th>\n",
       "      <th>Club</th>\n",
       "      <th>Contract</th>\n",
       "      <th>TSP Score</th>\n",
       "    </tr>\n",
       "  </thead>\n",
       "  <tbody>\n",
       "    <tr>\n",
       "      <th>0</th>\n",
       "      <td>Andreas S Olsen</td>\n",
       "      <td>24.0</td>\n",
       "      <td>Left</td>\n",
       "      <td>Club Brugge</td>\n",
       "      <td>2026-06-30</td>\n",
       "      <td>85.0</td>\n",
       "    </tr>\n",
       "    <tr>\n",
       "      <th>1</th>\n",
       "      <td>Antonio Nusa</td>\n",
       "      <td>18.0</td>\n",
       "      <td>Right</td>\n",
       "      <td>Club Brugge</td>\n",
       "      <td>2027-06-30</td>\n",
       "      <td>83.0</td>\n",
       "    </tr>\n",
       "    <tr>\n",
       "      <th>2</th>\n",
       "      <td>Jack Clarke</td>\n",
       "      <td>23.0</td>\n",
       "      <td>Right</td>\n",
       "      <td>Sunderland</td>\n",
       "      <td>2026-06-30</td>\n",
       "      <td>81.0</td>\n",
       "    </tr>\n",
       "    <tr>\n",
       "      <th>3</th>\n",
       "      <td>Désiré Doué</td>\n",
       "      <td>18.0</td>\n",
       "      <td>Both</td>\n",
       "      <td>Stade Rennais</td>\n",
       "      <td>2026-06-30</td>\n",
       "      <td>80.0</td>\n",
       "    </tr>\n",
       "    <tr>\n",
       "      <th>4</th>\n",
       "      <td>Fabian Reese</td>\n",
       "      <td>26.0</td>\n",
       "      <td>Right</td>\n",
       "      <td>Hertha</td>\n",
       "      <td>2028-06-01</td>\n",
       "      <td>77.0</td>\n",
       "    </tr>\n",
       "    <tr>\n",
       "      <th>5</th>\n",
       "      <td>Bruma</td>\n",
       "      <td>29.0</td>\n",
       "      <td>Right</td>\n",
       "      <td>SC Braga</td>\n",
       "      <td>2027-06-01</td>\n",
       "      <td>57.0</td>\n",
       "    </tr>\n",
       "    <tr>\n",
       "      <th>6</th>\n",
       "      <td>Philip Zinckernagel</td>\n",
       "      <td>29.0</td>\n",
       "      <td>Right</td>\n",
       "      <td>Club Brugge</td>\n",
       "      <td>2025-06-01</td>\n",
       "      <td>71.0</td>\n",
       "    </tr>\n",
       "    <tr>\n",
       "      <th>7</th>\n",
       "      <td>Baris Atik</td>\n",
       "      <td>29.0</td>\n",
       "      <td>Right</td>\n",
       "      <td>Magdeburg</td>\n",
       "      <td>2025-06-30</td>\n",
       "      <td>58.0</td>\n",
       "    </tr>\n",
       "    <tr>\n",
       "      <th>8</th>\n",
       "      <td>Gaëtan Perrin</td>\n",
       "      <td>27.0</td>\n",
       "      <td>Right</td>\n",
       "      <td>Auxerre</td>\n",
       "      <td>2024-06-01</td>\n",
       "      <td>62.0</td>\n",
       "    </tr>\n",
       "    <tr>\n",
       "      <th>9</th>\n",
       "      <td>Ideal Left Winger</td>\n",
       "      <td>NaN</td>\n",
       "      <td>NaN</td>\n",
       "      <td>NaN</td>\n",
       "      <td>NaT</td>\n",
       "      <td>100.0</td>\n",
       "    </tr>\n",
       "  </tbody>\n",
       "</table>\n",
       "</div>"
      ],
      "text/plain": [
       "                Player   Age Preferred Feet           Club    Contract  \\\n",
       "0      Andreas S Olsen  24.0           Left    Club Brugge  2026-06-30   \n",
       "1         Antonio Nusa  18.0          Right    Club Brugge  2027-06-30   \n",
       "2          Jack Clarke  23.0          Right     Sunderland  2026-06-30   \n",
       "3          Désiré Doué  18.0           Both  Stade Rennais  2026-06-30   \n",
       "4         Fabian Reese  26.0          Right         Hertha  2028-06-01   \n",
       "5                Bruma  29.0          Right       SC Braga  2027-06-01   \n",
       "6  Philip Zinckernagel  29.0          Right    Club Brugge  2025-06-01   \n",
       "7           Baris Atik  29.0          Right      Magdeburg  2025-06-30   \n",
       "8        Gaëtan Perrin  27.0          Right        Auxerre  2024-06-01   \n",
       "9    Ideal Left Winger   NaN            NaN            NaN         NaT   \n",
       "\n",
       "  TSP Score  \n",
       "0      85.0  \n",
       "1      83.0  \n",
       "2      81.0  \n",
       "3      80.0  \n",
       "4      77.0  \n",
       "5      57.0  \n",
       "6      71.0  \n",
       "7      58.0  \n",
       "8      62.0  \n",
       "9     100.0  "
      ]
     },
     "execution_count": 103,
     "metadata": {},
     "output_type": "execute_result"
    }
   ],
   "source": [
    "mdf=pd.read_excel('Player Data2.xlsx',sheet_name='Middle Text')\n",
    "mdf['Contract']=mdf['Contract'].astype(str)\n",
    "mdf\n",
    "mdf['TSP Score']=(mdf['TSP Score']*100).round(0).astype(str)\n",
    "mdf"
   ]
  },
  {
   "cell_type": "code",
   "execution_count": 105,
   "id": "75d1ebca",
   "metadata": {},
   "outputs": [
    {
     "data": {
      "text/html": [
       "<div>\n",
       "<style scoped>\n",
       "    .dataframe tbody tr th:only-of-type {\n",
       "        vertical-align: middle;\n",
       "    }\n",
       "\n",
       "    .dataframe tbody tr th {\n",
       "        vertical-align: top;\n",
       "    }\n",
       "\n",
       "    .dataframe thead th {\n",
       "        text-align: right;\n",
       "    }\n",
       "</style>\n",
       "<table border=\"1\" class=\"dataframe\">\n",
       "  <thead>\n",
       "    <tr style=\"text-align: right;\">\n",
       "      <th></th>\n",
       "      <th>Player</th>\n",
       "      <th>Age</th>\n",
       "      <th>Preferred Feet</th>\n",
       "      <th>Club</th>\n",
       "      <th>Contract</th>\n",
       "      <th>TSP Score</th>\n",
       "    </tr>\n",
       "  </thead>\n",
       "  <tbody>\n",
       "    <tr>\n",
       "      <th>0</th>\n",
       "      <td>Andreas S Olsen</td>\n",
       "      <td>24.0</td>\n",
       "      <td>Left</td>\n",
       "      <td>Club Brugge</td>\n",
       "      <td>2026-06-30</td>\n",
       "      <td>85.0</td>\n",
       "    </tr>\n",
       "    <tr>\n",
       "      <th>1</th>\n",
       "      <td>Antonio Nusa</td>\n",
       "      <td>18.0</td>\n",
       "      <td>Right</td>\n",
       "      <td>Club Brugge</td>\n",
       "      <td>2027-06-30</td>\n",
       "      <td>83.0</td>\n",
       "    </tr>\n",
       "    <tr>\n",
       "      <th>2</th>\n",
       "      <td>Jack Clarke</td>\n",
       "      <td>23.0</td>\n",
       "      <td>Right</td>\n",
       "      <td>Sunderland</td>\n",
       "      <td>2026-06-30</td>\n",
       "      <td>81.0</td>\n",
       "    </tr>\n",
       "    <tr>\n",
       "      <th>3</th>\n",
       "      <td>Désiré Doué</td>\n",
       "      <td>18.0</td>\n",
       "      <td>Both</td>\n",
       "      <td>Stade Rennais</td>\n",
       "      <td>2026-06-30</td>\n",
       "      <td>80.0</td>\n",
       "    </tr>\n",
       "    <tr>\n",
       "      <th>4</th>\n",
       "      <td>Fabian Reese</td>\n",
       "      <td>26.0</td>\n",
       "      <td>Right</td>\n",
       "      <td>Hertha</td>\n",
       "      <td>2028-06-01</td>\n",
       "      <td>77.0</td>\n",
       "    </tr>\n",
       "    <tr>\n",
       "      <th>5</th>\n",
       "      <td>Bruma</td>\n",
       "      <td>29.0</td>\n",
       "      <td>Right</td>\n",
       "      <td>SC Braga</td>\n",
       "      <td>2027-06-01</td>\n",
       "      <td>57.0</td>\n",
       "    </tr>\n",
       "    <tr>\n",
       "      <th>6</th>\n",
       "      <td>Philip Zinckernagel</td>\n",
       "      <td>29.0</td>\n",
       "      <td>Right</td>\n",
       "      <td>Club Brugge</td>\n",
       "      <td>2025-06-01</td>\n",
       "      <td>71.0</td>\n",
       "    </tr>\n",
       "    <tr>\n",
       "      <th>7</th>\n",
       "      <td>Baris Atik</td>\n",
       "      <td>29.0</td>\n",
       "      <td>Right</td>\n",
       "      <td>Magdeburg</td>\n",
       "      <td>2025-06-30</td>\n",
       "      <td>58.0</td>\n",
       "    </tr>\n",
       "    <tr>\n",
       "      <th>8</th>\n",
       "      <td>Gaëtan Perrin</td>\n",
       "      <td>27.0</td>\n",
       "      <td>Right</td>\n",
       "      <td>Auxerre</td>\n",
       "      <td>2024-06-01</td>\n",
       "      <td>62.0</td>\n",
       "    </tr>\n",
       "  </tbody>\n",
       "</table>\n",
       "</div>"
      ],
      "text/plain": [
       "                Player   Age Preferred Feet           Club    Contract  \\\n",
       "0      Andreas S Olsen  24.0           Left    Club Brugge  2026-06-30   \n",
       "1         Antonio Nusa  18.0          Right    Club Brugge  2027-06-30   \n",
       "2          Jack Clarke  23.0          Right     Sunderland  2026-06-30   \n",
       "3          Désiré Doué  18.0           Both  Stade Rennais  2026-06-30   \n",
       "4         Fabian Reese  26.0          Right         Hertha  2028-06-01   \n",
       "5                Bruma  29.0          Right       SC Braga  2027-06-01   \n",
       "6  Philip Zinckernagel  29.0          Right    Club Brugge  2025-06-01   \n",
       "7           Baris Atik  29.0          Right      Magdeburg  2025-06-30   \n",
       "8        Gaëtan Perrin  27.0          Right        Auxerre  2024-06-01   \n",
       "\n",
       "  TSP Score  \n",
       "0      85.0  \n",
       "1      83.0  \n",
       "2      81.0  \n",
       "3      80.0  \n",
       "4      77.0  \n",
       "5      57.0  \n",
       "6      71.0  \n",
       "7      58.0  \n",
       "8      62.0  "
      ]
     },
     "execution_count": 105,
     "metadata": {},
     "output_type": "execute_result"
    }
   ],
   "source": [
    "mdf.drop(9)"
   ]
  },
  {
   "cell_type": "code",
   "execution_count": 93,
   "id": "9899fd26",
   "metadata": {},
   "outputs": [
    {
     "data": {
      "application/vnd.plotly.v1+json": {
       "config": {
        "plotlyServerURL": "https://plot.ly"
       },
       "data": [
        {
         "hoverinfo": "none",
         "insidetextanchor": "middle",
         "marker": {
          "color": "grey"
         },
         "name": "Boosted Attributes",
         "orientation": "h",
         "text": "Boosted Attributes",
         "textposition": "inside",
         "type": "bar",
         "x": [
          25
         ],
         "y": [
          0
         ]
        },
        {
         "hoverinfo": "none",
         "insidetextanchor": "middle",
         "marker": {
          "color": "white"
         },
         "name": "Coming Soon",
         "orientation": "h",
         "text": "Coming Soon",
         "textposition": "inside",
         "type": "bar",
         "x": [
          25
         ],
         "y": [
          0
         ]
        },
        {
         "hoverinfo": "none",
         "insidetextanchor": "middle",
         "marker": {
          "color": "grey"
         },
         "name": "Discounted Attributes",
         "orientation": "h",
         "text": "Discounted Attributes",
         "textposition": "inside",
         "type": "bar",
         "x": [
          25
         ],
         "y": [
          0
         ]
        },
        {
         "hoverinfo": "none",
         "insidetextanchor": "middle",
         "marker": {
          "color": "white"
         },
         "name": "Coming Soon",
         "orientation": "h",
         "text": "Coming Soon",
         "textposition": "inside",
         "type": "bar",
         "x": [
          25
         ],
         "y": [
          0
         ]
        },
        {
         "hoverinfo": "none",
         "insidetextanchor": "middle",
         "marker": {
          "color": "blue"
         },
         "name": "Secondary Attributes",
         "orientation": "h",
         "text": "Secondary Attributes",
         "textposition": "inside",
         "type": "bar",
         "x": [
          14.285714285714288
         ],
         "y": [
          1
         ]
        },
        {
         "hoverinfo": "none",
         "insidetextanchor": "middle",
         "marker": {
          "color": "yellow"
         },
         "name": "Shooting",
         "orientation": "h",
         "text": "Shooting",
         "textposition": "inside",
         "type": "bar",
         "x": [
          14.285714285714288
         ],
         "y": [
          1
         ]
        },
        {
         "hoverinfo": "none",
         "insidetextanchor": "middle",
         "marker": {
          "color": "yellow"
         },
         "name": "Defense",
         "orientation": "h",
         "text": "Defense",
         "textposition": "inside",
         "type": "bar",
         "x": [
          14.285714285714288
         ],
         "y": [
          1
         ]
        },
        {
         "hoverinfo": "none",
         "insidetextanchor": "middle",
         "marker": {
          "color": "yellow"
         },
         "name": "Misc",
         "orientation": "h",
         "text": "Misc",
         "textposition": "inside",
         "type": "bar",
         "x": [
          14.285714285714288
         ],
         "y": [
          1
         ]
        },
        {
         "hoverinfo": "none",
         "insidetextanchor": "middle",
         "marker": {
          "color": "yellow"
         },
         "name": "nan",
         "orientation": "h",
         "text": "nan",
         "textposition": "inside",
         "type": "bar",
         "x": [
          14.285714285714288
         ],
         "y": [
          1
         ]
        },
        {
         "hoverinfo": "none",
         "insidetextanchor": "middle",
         "marker": {
          "color": "yellow"
         },
         "name": "nan",
         "orientation": "h",
         "text": "nan",
         "textposition": "inside",
         "type": "bar",
         "x": [
          14.285714285714288
         ],
         "y": [
          1
         ]
        },
        {
         "hoverinfo": "none",
         "insidetextanchor": "middle",
         "marker": {
          "color": "yellow"
         },
         "name": "nan",
         "orientation": "h",
         "text": "nan",
         "textposition": "inside",
         "type": "bar",
         "x": [
          14.285714285714288
         ],
         "y": [
          1
         ]
        },
        {
         "hoverinfo": "none",
         "insidetextanchor": "middle",
         "marker": {
          "color": "blue"
         },
         "name": "Primary Attributes",
         "orientation": "h",
         "text": "Primary Attributes",
         "textposition": "inside",
         "type": "bar",
         "x": [
          14.285714285714288
         ],
         "y": [
          2
         ]
        },
        {
         "hoverinfo": "none",
         "insidetextanchor": "middle",
         "marker": {
          "color": "yellow"
         },
         "name": "Attacking",
         "orientation": "h",
         "text": "Attacking",
         "textposition": "inside",
         "type": "bar",
         "x": [
          14.285714285714288
         ],
         "y": [
          2
         ]
        },
        {
         "hoverinfo": "none",
         "insidetextanchor": "middle",
         "marker": {
          "color": "yellow"
         },
         "name": "Passing",
         "orientation": "h",
         "text": "Passing",
         "textposition": "inside",
         "type": "bar",
         "x": [
          14.285714285714288
         ],
         "y": [
          2
         ]
        },
        {
         "hoverinfo": "none",
         "insidetextanchor": "middle",
         "marker": {
          "color": "yellow"
         },
         "name": "Pass Types",
         "orientation": "h",
         "text": "Pass Types",
         "textposition": "inside",
         "type": "bar",
         "x": [
          14.285714285714288
         ],
         "y": [
          2
         ]
        },
        {
         "hoverinfo": "none",
         "insidetextanchor": "middle",
         "marker": {
          "color": "yellow"
         },
         "name": "Goal CAs",
         "orientation": "h",
         "text": "Goal CAs",
         "textposition": "inside",
         "type": "bar",
         "x": [
          14.285714285714288
         ],
         "y": [
          2
         ]
        },
        {
         "hoverinfo": "none",
         "insidetextanchor": "middle",
         "marker": {
          "color": "yellow"
         },
         "name": "Shot Cas",
         "orientation": "h",
         "text": "Shot Cas",
         "textposition": "inside",
         "type": "bar",
         "x": [
          14.285714285714288
         ],
         "y": [
          2
         ]
        },
        {
         "hoverinfo": "none",
         "insidetextanchor": "middle",
         "marker": {
          "color": "yellow"
         },
         "name": "Possession",
         "orientation": "h",
         "text": "Possession",
         "textposition": "inside",
         "type": "bar",
         "x": [
          14.285714285714288
         ],
         "y": [
          2
         ]
        },
        {
         "hoverinfo": "none",
         "insidetextanchor": "middle",
         "marker": {
          "color": "grey"
         },
         "name": "Position",
         "orientation": "h",
         "text": "Position",
         "textposition": "inside",
         "type": "bar",
         "x": [
          16.666666666666664
         ],
         "y": [
          3
         ]
        },
        {
         "hoverinfo": "none",
         "insidetextanchor": "middle",
         "marker": {
          "color": "white"
         },
         "name": "Left Wing",
         "orientation": "h",
         "text": "Left Wing",
         "textposition": "inside",
         "type": "bar",
         "x": [
          16.666666666666664
         ],
         "y": [
          3
         ]
        },
        {
         "hoverinfo": "none",
         "insidetextanchor": "middle",
         "marker": {
          "color": "grey"
         },
         "name": "Reference",
         "orientation": "h",
         "text": "Reference",
         "textposition": "inside",
         "type": "bar",
         "x": [
          16.666666666666664
         ],
         "y": [
          3
         ]
        },
        {
         "hoverinfo": "none",
         "insidetextanchor": "middle",
         "marker": {
          "color": "white"
         },
         "name": "Ideal Player",
         "orientation": "h",
         "text": "Ideal Player",
         "textposition": "inside",
         "type": "bar",
         "x": [
          16.666666666666664
         ],
         "y": [
          3
         ]
        },
        {
         "hoverinfo": "none",
         "insidetextanchor": "middle",
         "marker": {
          "color": "grey"
         },
         "name": "Score",
         "orientation": "h",
         "text": "Score",
         "textposition": "inside",
         "type": "bar",
         "x": [
          16.666666666666664
         ],
         "y": [
          3
         ]
        },
        {
         "hoverinfo": "none",
         "insidetextanchor": "middle",
         "marker": {
          "color": "white"
         },
         "name": "100",
         "orientation": "h",
         "text": "100",
         "textposition": "inside",
         "type": "bar",
         "x": [
          16.666666666666664
         ],
         "y": [
          3
         ]
        }
       ],
       "layout": {
        "barmode": "stack",
        "showlegend": false,
        "template": {
         "data": {
          "bar": [
           {
            "error_x": {
             "color": "#2a3f5f"
            },
            "error_y": {
             "color": "#2a3f5f"
            },
            "marker": {
             "line": {
              "color": "#E5ECF6",
              "width": 0.5
             },
             "pattern": {
              "fillmode": "overlay",
              "size": 10,
              "solidity": 0.2
             }
            },
            "type": "bar"
           }
          ],
          "barpolar": [
           {
            "marker": {
             "line": {
              "color": "#E5ECF6",
              "width": 0.5
             },
             "pattern": {
              "fillmode": "overlay",
              "size": 10,
              "solidity": 0.2
             }
            },
            "type": "barpolar"
           }
          ],
          "carpet": [
           {
            "aaxis": {
             "endlinecolor": "#2a3f5f",
             "gridcolor": "white",
             "linecolor": "white",
             "minorgridcolor": "white",
             "startlinecolor": "#2a3f5f"
            },
            "baxis": {
             "endlinecolor": "#2a3f5f",
             "gridcolor": "white",
             "linecolor": "white",
             "minorgridcolor": "white",
             "startlinecolor": "#2a3f5f"
            },
            "type": "carpet"
           }
          ],
          "choropleth": [
           {
            "colorbar": {
             "outlinewidth": 0,
             "ticks": ""
            },
            "type": "choropleth"
           }
          ],
          "contour": [
           {
            "colorbar": {
             "outlinewidth": 0,
             "ticks": ""
            },
            "colorscale": [
             [
              0,
              "#0d0887"
             ],
             [
              0.1111111111111111,
              "#46039f"
             ],
             [
              0.2222222222222222,
              "#7201a8"
             ],
             [
              0.3333333333333333,
              "#9c179e"
             ],
             [
              0.4444444444444444,
              "#bd3786"
             ],
             [
              0.5555555555555556,
              "#d8576b"
             ],
             [
              0.6666666666666666,
              "#ed7953"
             ],
             [
              0.7777777777777778,
              "#fb9f3a"
             ],
             [
              0.8888888888888888,
              "#fdca26"
             ],
             [
              1,
              "#f0f921"
             ]
            ],
            "type": "contour"
           }
          ],
          "contourcarpet": [
           {
            "colorbar": {
             "outlinewidth": 0,
             "ticks": ""
            },
            "type": "contourcarpet"
           }
          ],
          "heatmap": [
           {
            "colorbar": {
             "outlinewidth": 0,
             "ticks": ""
            },
            "colorscale": [
             [
              0,
              "#0d0887"
             ],
             [
              0.1111111111111111,
              "#46039f"
             ],
             [
              0.2222222222222222,
              "#7201a8"
             ],
             [
              0.3333333333333333,
              "#9c179e"
             ],
             [
              0.4444444444444444,
              "#bd3786"
             ],
             [
              0.5555555555555556,
              "#d8576b"
             ],
             [
              0.6666666666666666,
              "#ed7953"
             ],
             [
              0.7777777777777778,
              "#fb9f3a"
             ],
             [
              0.8888888888888888,
              "#fdca26"
             ],
             [
              1,
              "#f0f921"
             ]
            ],
            "type": "heatmap"
           }
          ],
          "heatmapgl": [
           {
            "colorbar": {
             "outlinewidth": 0,
             "ticks": ""
            },
            "colorscale": [
             [
              0,
              "#0d0887"
             ],
             [
              0.1111111111111111,
              "#46039f"
             ],
             [
              0.2222222222222222,
              "#7201a8"
             ],
             [
              0.3333333333333333,
              "#9c179e"
             ],
             [
              0.4444444444444444,
              "#bd3786"
             ],
             [
              0.5555555555555556,
              "#d8576b"
             ],
             [
              0.6666666666666666,
              "#ed7953"
             ],
             [
              0.7777777777777778,
              "#fb9f3a"
             ],
             [
              0.8888888888888888,
              "#fdca26"
             ],
             [
              1,
              "#f0f921"
             ]
            ],
            "type": "heatmapgl"
           }
          ],
          "histogram": [
           {
            "marker": {
             "pattern": {
              "fillmode": "overlay",
              "size": 10,
              "solidity": 0.2
             }
            },
            "type": "histogram"
           }
          ],
          "histogram2d": [
           {
            "colorbar": {
             "outlinewidth": 0,
             "ticks": ""
            },
            "colorscale": [
             [
              0,
              "#0d0887"
             ],
             [
              0.1111111111111111,
              "#46039f"
             ],
             [
              0.2222222222222222,
              "#7201a8"
             ],
             [
              0.3333333333333333,
              "#9c179e"
             ],
             [
              0.4444444444444444,
              "#bd3786"
             ],
             [
              0.5555555555555556,
              "#d8576b"
             ],
             [
              0.6666666666666666,
              "#ed7953"
             ],
             [
              0.7777777777777778,
              "#fb9f3a"
             ],
             [
              0.8888888888888888,
              "#fdca26"
             ],
             [
              1,
              "#f0f921"
             ]
            ],
            "type": "histogram2d"
           }
          ],
          "histogram2dcontour": [
           {
            "colorbar": {
             "outlinewidth": 0,
             "ticks": ""
            },
            "colorscale": [
             [
              0,
              "#0d0887"
             ],
             [
              0.1111111111111111,
              "#46039f"
             ],
             [
              0.2222222222222222,
              "#7201a8"
             ],
             [
              0.3333333333333333,
              "#9c179e"
             ],
             [
              0.4444444444444444,
              "#bd3786"
             ],
             [
              0.5555555555555556,
              "#d8576b"
             ],
             [
              0.6666666666666666,
              "#ed7953"
             ],
             [
              0.7777777777777778,
              "#fb9f3a"
             ],
             [
              0.8888888888888888,
              "#fdca26"
             ],
             [
              1,
              "#f0f921"
             ]
            ],
            "type": "histogram2dcontour"
           }
          ],
          "mesh3d": [
           {
            "colorbar": {
             "outlinewidth": 0,
             "ticks": ""
            },
            "type": "mesh3d"
           }
          ],
          "parcoords": [
           {
            "line": {
             "colorbar": {
              "outlinewidth": 0,
              "ticks": ""
             }
            },
            "type": "parcoords"
           }
          ],
          "pie": [
           {
            "automargin": true,
            "type": "pie"
           }
          ],
          "scatter": [
           {
            "fillpattern": {
             "fillmode": "overlay",
             "size": 10,
             "solidity": 0.2
            },
            "type": "scatter"
           }
          ],
          "scatter3d": [
           {
            "line": {
             "colorbar": {
              "outlinewidth": 0,
              "ticks": ""
             }
            },
            "marker": {
             "colorbar": {
              "outlinewidth": 0,
              "ticks": ""
             }
            },
            "type": "scatter3d"
           }
          ],
          "scattercarpet": [
           {
            "marker": {
             "colorbar": {
              "outlinewidth": 0,
              "ticks": ""
             }
            },
            "type": "scattercarpet"
           }
          ],
          "scattergeo": [
           {
            "marker": {
             "colorbar": {
              "outlinewidth": 0,
              "ticks": ""
             }
            },
            "type": "scattergeo"
           }
          ],
          "scattergl": [
           {
            "marker": {
             "colorbar": {
              "outlinewidth": 0,
              "ticks": ""
             }
            },
            "type": "scattergl"
           }
          ],
          "scattermapbox": [
           {
            "marker": {
             "colorbar": {
              "outlinewidth": 0,
              "ticks": ""
             }
            },
            "type": "scattermapbox"
           }
          ],
          "scatterpolar": [
           {
            "marker": {
             "colorbar": {
              "outlinewidth": 0,
              "ticks": ""
             }
            },
            "type": "scatterpolar"
           }
          ],
          "scatterpolargl": [
           {
            "marker": {
             "colorbar": {
              "outlinewidth": 0,
              "ticks": ""
             }
            },
            "type": "scatterpolargl"
           }
          ],
          "scatterternary": [
           {
            "marker": {
             "colorbar": {
              "outlinewidth": 0,
              "ticks": ""
             }
            },
            "type": "scatterternary"
           }
          ],
          "surface": [
           {
            "colorbar": {
             "outlinewidth": 0,
             "ticks": ""
            },
            "colorscale": [
             [
              0,
              "#0d0887"
             ],
             [
              0.1111111111111111,
              "#46039f"
             ],
             [
              0.2222222222222222,
              "#7201a8"
             ],
             [
              0.3333333333333333,
              "#9c179e"
             ],
             [
              0.4444444444444444,
              "#bd3786"
             ],
             [
              0.5555555555555556,
              "#d8576b"
             ],
             [
              0.6666666666666666,
              "#ed7953"
             ],
             [
              0.7777777777777778,
              "#fb9f3a"
             ],
             [
              0.8888888888888888,
              "#fdca26"
             ],
             [
              1,
              "#f0f921"
             ]
            ],
            "type": "surface"
           }
          ],
          "table": [
           {
            "cells": {
             "fill": {
              "color": "#EBF0F8"
             },
             "line": {
              "color": "white"
             }
            },
            "header": {
             "fill": {
              "color": "#C8D4E3"
             },
             "line": {
              "color": "white"
             }
            },
            "type": "table"
           }
          ]
         },
         "layout": {
          "annotationdefaults": {
           "arrowcolor": "#2a3f5f",
           "arrowhead": 0,
           "arrowwidth": 1
          },
          "autotypenumbers": "strict",
          "coloraxis": {
           "colorbar": {
            "outlinewidth": 0,
            "ticks": ""
           }
          },
          "colorscale": {
           "diverging": [
            [
             0,
             "#8e0152"
            ],
            [
             0.1,
             "#c51b7d"
            ],
            [
             0.2,
             "#de77ae"
            ],
            [
             0.3,
             "#f1b6da"
            ],
            [
             0.4,
             "#fde0ef"
            ],
            [
             0.5,
             "#f7f7f7"
            ],
            [
             0.6,
             "#e6f5d0"
            ],
            [
             0.7,
             "#b8e186"
            ],
            [
             0.8,
             "#7fbc41"
            ],
            [
             0.9,
             "#4d9221"
            ],
            [
             1,
             "#276419"
            ]
           ],
           "sequential": [
            [
             0,
             "#0d0887"
            ],
            [
             0.1111111111111111,
             "#46039f"
            ],
            [
             0.2222222222222222,
             "#7201a8"
            ],
            [
             0.3333333333333333,
             "#9c179e"
            ],
            [
             0.4444444444444444,
             "#bd3786"
            ],
            [
             0.5555555555555556,
             "#d8576b"
            ],
            [
             0.6666666666666666,
             "#ed7953"
            ],
            [
             0.7777777777777778,
             "#fb9f3a"
            ],
            [
             0.8888888888888888,
             "#fdca26"
            ],
            [
             1,
             "#f0f921"
            ]
           ],
           "sequentialminus": [
            [
             0,
             "#0d0887"
            ],
            [
             0.1111111111111111,
             "#46039f"
            ],
            [
             0.2222222222222222,
             "#7201a8"
            ],
            [
             0.3333333333333333,
             "#9c179e"
            ],
            [
             0.4444444444444444,
             "#bd3786"
            ],
            [
             0.5555555555555556,
             "#d8576b"
            ],
            [
             0.6666666666666666,
             "#ed7953"
            ],
            [
             0.7777777777777778,
             "#fb9f3a"
            ],
            [
             0.8888888888888888,
             "#fdca26"
            ],
            [
             1,
             "#f0f921"
            ]
           ]
          },
          "colorway": [
           "#636efa",
           "#EF553B",
           "#00cc96",
           "#ab63fa",
           "#FFA15A",
           "#19d3f3",
           "#FF6692",
           "#B6E880",
           "#FF97FF",
           "#FECB52"
          ],
          "font": {
           "color": "#2a3f5f"
          },
          "geo": {
           "bgcolor": "white",
           "lakecolor": "white",
           "landcolor": "#E5ECF6",
           "showlakes": true,
           "showland": true,
           "subunitcolor": "white"
          },
          "hoverlabel": {
           "align": "left"
          },
          "hovermode": "closest",
          "mapbox": {
           "style": "light"
          },
          "paper_bgcolor": "white",
          "plot_bgcolor": "#E5ECF6",
          "polar": {
           "angularaxis": {
            "gridcolor": "white",
            "linecolor": "white",
            "ticks": ""
           },
           "bgcolor": "#E5ECF6",
           "radialaxis": {
            "gridcolor": "white",
            "linecolor": "white",
            "ticks": ""
           }
          },
          "scene": {
           "xaxis": {
            "backgroundcolor": "#E5ECF6",
            "gridcolor": "white",
            "gridwidth": 2,
            "linecolor": "white",
            "showbackground": true,
            "ticks": "",
            "zerolinecolor": "white"
           },
           "yaxis": {
            "backgroundcolor": "#E5ECF6",
            "gridcolor": "white",
            "gridwidth": 2,
            "linecolor": "white",
            "showbackground": true,
            "ticks": "",
            "zerolinecolor": "white"
           },
           "zaxis": {
            "backgroundcolor": "#E5ECF6",
            "gridcolor": "white",
            "gridwidth": 2,
            "linecolor": "white",
            "showbackground": true,
            "ticks": "",
            "zerolinecolor": "white"
           }
          },
          "shapedefaults": {
           "line": {
            "color": "#2a3f5f"
           }
          },
          "ternary": {
           "aaxis": {
            "gridcolor": "white",
            "linecolor": "white",
            "ticks": ""
           },
           "baxis": {
            "gridcolor": "white",
            "linecolor": "white",
            "ticks": ""
           },
           "bgcolor": "#E5ECF6",
           "caxis": {
            "gridcolor": "white",
            "linecolor": "white",
            "ticks": ""
           }
          },
          "title": {
           "x": 0.05
          },
          "xaxis": {
           "automargin": true,
           "gridcolor": "white",
           "linecolor": "white",
           "ticks": "",
           "title": {
            "standoff": 15
           },
           "zerolinecolor": "white",
           "zerolinewidth": 2
          },
          "yaxis": {
           "automargin": true,
           "gridcolor": "white",
           "linecolor": "white",
           "ticks": "",
           "title": {
            "standoff": 15
           },
           "zerolinecolor": "white",
           "zerolinewidth": 2
          }
         }
        },
        "xaxis": {
         "range": [
          0,
          100
         ],
         "showticklabels": false
        },
        "yaxis": {
         "linecolor": "white",
         "showline": false,
         "showticklabels": false
        }
       }
      },
      "text/html": [
       "<div>                            <div id=\"e2eec647-3a34-4b2c-8eb6-b2dfa82d9813\" class=\"plotly-graph-div\" style=\"height:525px; width:100%;\"></div>            <script type=\"text/javascript\">                require([\"plotly\"], function(Plotly) {                    window.PLOTLYENV=window.PLOTLYENV || {};                                    if (document.getElementById(\"e2eec647-3a34-4b2c-8eb6-b2dfa82d9813\")) {                    Plotly.newPlot(                        \"e2eec647-3a34-4b2c-8eb6-b2dfa82d9813\",                        [{\"hoverinfo\":\"none\",\"insidetextanchor\":\"middle\",\"marker\":{\"color\":\"grey\"},\"name\":\"Boosted Attributes\",\"orientation\":\"h\",\"text\":\"Boosted Attributes\",\"textposition\":\"inside\",\"x\":[25.0],\"y\":[0],\"type\":\"bar\"},{\"hoverinfo\":\"none\",\"insidetextanchor\":\"middle\",\"marker\":{\"color\":\"white\"},\"name\":\"Coming Soon\",\"orientation\":\"h\",\"text\":\"Coming Soon\",\"textposition\":\"inside\",\"x\":[25.0],\"y\":[0],\"type\":\"bar\"},{\"hoverinfo\":\"none\",\"insidetextanchor\":\"middle\",\"marker\":{\"color\":\"grey\"},\"name\":\"Discounted Attributes\",\"orientation\":\"h\",\"text\":\"Discounted Attributes\",\"textposition\":\"inside\",\"x\":[25.0],\"y\":[0],\"type\":\"bar\"},{\"hoverinfo\":\"none\",\"insidetextanchor\":\"middle\",\"marker\":{\"color\":\"white\"},\"name\":\"Coming Soon\",\"orientation\":\"h\",\"text\":\"Coming Soon\",\"textposition\":\"inside\",\"x\":[25.0],\"y\":[0],\"type\":\"bar\"},{\"hoverinfo\":\"none\",\"insidetextanchor\":\"middle\",\"marker\":{\"color\":\"blue\"},\"name\":\"Secondary Attributes\",\"orientation\":\"h\",\"text\":\"Secondary Attributes\",\"textposition\":\"inside\",\"x\":[14.285714285714288],\"y\":[1],\"type\":\"bar\"},{\"hoverinfo\":\"none\",\"insidetextanchor\":\"middle\",\"marker\":{\"color\":\"yellow\"},\"name\":\"Shooting\",\"orientation\":\"h\",\"text\":\"Shooting\",\"textposition\":\"inside\",\"x\":[14.285714285714288],\"y\":[1],\"type\":\"bar\"},{\"hoverinfo\":\"none\",\"insidetextanchor\":\"middle\",\"marker\":{\"color\":\"yellow\"},\"name\":\"Defense\",\"orientation\":\"h\",\"text\":\"Defense\",\"textposition\":\"inside\",\"x\":[14.285714285714288],\"y\":[1],\"type\":\"bar\"},{\"hoverinfo\":\"none\",\"insidetextanchor\":\"middle\",\"marker\":{\"color\":\"yellow\"},\"name\":\"Misc\",\"orientation\":\"h\",\"text\":\"Misc\",\"textposition\":\"inside\",\"x\":[14.285714285714288],\"y\":[1],\"type\":\"bar\"},{\"hoverinfo\":\"none\",\"insidetextanchor\":\"middle\",\"marker\":{\"color\":\"yellow\"},\"name\":\"nan\",\"orientation\":\"h\",\"text\":\"nan\",\"textposition\":\"inside\",\"x\":[14.285714285714288],\"y\":[1],\"type\":\"bar\"},{\"hoverinfo\":\"none\",\"insidetextanchor\":\"middle\",\"marker\":{\"color\":\"yellow\"},\"name\":\"nan\",\"orientation\":\"h\",\"text\":\"nan\",\"textposition\":\"inside\",\"x\":[14.285714285714288],\"y\":[1],\"type\":\"bar\"},{\"hoverinfo\":\"none\",\"insidetextanchor\":\"middle\",\"marker\":{\"color\":\"yellow\"},\"name\":\"nan\",\"orientation\":\"h\",\"text\":\"nan\",\"textposition\":\"inside\",\"x\":[14.285714285714288],\"y\":[1],\"type\":\"bar\"},{\"hoverinfo\":\"none\",\"insidetextanchor\":\"middle\",\"marker\":{\"color\":\"blue\"},\"name\":\"Primary Attributes\",\"orientation\":\"h\",\"text\":\"Primary Attributes\",\"textposition\":\"inside\",\"x\":[14.285714285714288],\"y\":[2],\"type\":\"bar\"},{\"hoverinfo\":\"none\",\"insidetextanchor\":\"middle\",\"marker\":{\"color\":\"yellow\"},\"name\":\"Attacking\",\"orientation\":\"h\",\"text\":\"Attacking\",\"textposition\":\"inside\",\"x\":[14.285714285714288],\"y\":[2],\"type\":\"bar\"},{\"hoverinfo\":\"none\",\"insidetextanchor\":\"middle\",\"marker\":{\"color\":\"yellow\"},\"name\":\"Passing\",\"orientation\":\"h\",\"text\":\"Passing\",\"textposition\":\"inside\",\"x\":[14.285714285714288],\"y\":[2],\"type\":\"bar\"},{\"hoverinfo\":\"none\",\"insidetextanchor\":\"middle\",\"marker\":{\"color\":\"yellow\"},\"name\":\"Pass Types\",\"orientation\":\"h\",\"text\":\"Pass Types\",\"textposition\":\"inside\",\"x\":[14.285714285714288],\"y\":[2],\"type\":\"bar\"},{\"hoverinfo\":\"none\",\"insidetextanchor\":\"middle\",\"marker\":{\"color\":\"yellow\"},\"name\":\"Goal CAs\",\"orientation\":\"h\",\"text\":\"Goal CAs\",\"textposition\":\"inside\",\"x\":[14.285714285714288],\"y\":[2],\"type\":\"bar\"},{\"hoverinfo\":\"none\",\"insidetextanchor\":\"middle\",\"marker\":{\"color\":\"yellow\"},\"name\":\"Shot Cas\",\"orientation\":\"h\",\"text\":\"Shot Cas\",\"textposition\":\"inside\",\"x\":[14.285714285714288],\"y\":[2],\"type\":\"bar\"},{\"hoverinfo\":\"none\",\"insidetextanchor\":\"middle\",\"marker\":{\"color\":\"yellow\"},\"name\":\"Possession\",\"orientation\":\"h\",\"text\":\"Possession\",\"textposition\":\"inside\",\"x\":[14.285714285714288],\"y\":[2],\"type\":\"bar\"},{\"hoverinfo\":\"none\",\"insidetextanchor\":\"middle\",\"marker\":{\"color\":\"grey\"},\"name\":\"Position\",\"orientation\":\"h\",\"text\":\"Position\",\"textposition\":\"inside\",\"x\":[16.666666666666664],\"y\":[3],\"type\":\"bar\"},{\"hoverinfo\":\"none\",\"insidetextanchor\":\"middle\",\"marker\":{\"color\":\"white\"},\"name\":\"Left Wing\",\"orientation\":\"h\",\"text\":\"Left Wing\",\"textposition\":\"inside\",\"x\":[16.666666666666664],\"y\":[3],\"type\":\"bar\"},{\"hoverinfo\":\"none\",\"insidetextanchor\":\"middle\",\"marker\":{\"color\":\"grey\"},\"name\":\"Reference\",\"orientation\":\"h\",\"text\":\"Reference\",\"textposition\":\"inside\",\"x\":[16.666666666666664],\"y\":[3],\"type\":\"bar\"},{\"hoverinfo\":\"none\",\"insidetextanchor\":\"middle\",\"marker\":{\"color\":\"white\"},\"name\":\"Ideal Player\",\"orientation\":\"h\",\"text\":\"Ideal Player\",\"textposition\":\"inside\",\"x\":[16.666666666666664],\"y\":[3],\"type\":\"bar\"},{\"hoverinfo\":\"none\",\"insidetextanchor\":\"middle\",\"marker\":{\"color\":\"grey\"},\"name\":\"Score\",\"orientation\":\"h\",\"text\":\"Score\",\"textposition\":\"inside\",\"x\":[16.666666666666664],\"y\":[3],\"type\":\"bar\"},{\"hoverinfo\":\"none\",\"insidetextanchor\":\"middle\",\"marker\":{\"color\":\"white\"},\"name\":\"100\",\"orientation\":\"h\",\"text\":\"100\",\"textposition\":\"inside\",\"x\":[16.666666666666664],\"y\":[3],\"type\":\"bar\"}],                        {\"template\":{\"data\":{\"histogram2dcontour\":[{\"type\":\"histogram2dcontour\",\"colorbar\":{\"outlinewidth\":0,\"ticks\":\"\"},\"colorscale\":[[0.0,\"#0d0887\"],[0.1111111111111111,\"#46039f\"],[0.2222222222222222,\"#7201a8\"],[0.3333333333333333,\"#9c179e\"],[0.4444444444444444,\"#bd3786\"],[0.5555555555555556,\"#d8576b\"],[0.6666666666666666,\"#ed7953\"],[0.7777777777777778,\"#fb9f3a\"],[0.8888888888888888,\"#fdca26\"],[1.0,\"#f0f921\"]]}],\"choropleth\":[{\"type\":\"choropleth\",\"colorbar\":{\"outlinewidth\":0,\"ticks\":\"\"}}],\"histogram2d\":[{\"type\":\"histogram2d\",\"colorbar\":{\"outlinewidth\":0,\"ticks\":\"\"},\"colorscale\":[[0.0,\"#0d0887\"],[0.1111111111111111,\"#46039f\"],[0.2222222222222222,\"#7201a8\"],[0.3333333333333333,\"#9c179e\"],[0.4444444444444444,\"#bd3786\"],[0.5555555555555556,\"#d8576b\"],[0.6666666666666666,\"#ed7953\"],[0.7777777777777778,\"#fb9f3a\"],[0.8888888888888888,\"#fdca26\"],[1.0,\"#f0f921\"]]}],\"heatmap\":[{\"type\":\"heatmap\",\"colorbar\":{\"outlinewidth\":0,\"ticks\":\"\"},\"colorscale\":[[0.0,\"#0d0887\"],[0.1111111111111111,\"#46039f\"],[0.2222222222222222,\"#7201a8\"],[0.3333333333333333,\"#9c179e\"],[0.4444444444444444,\"#bd3786\"],[0.5555555555555556,\"#d8576b\"],[0.6666666666666666,\"#ed7953\"],[0.7777777777777778,\"#fb9f3a\"],[0.8888888888888888,\"#fdca26\"],[1.0,\"#f0f921\"]]}],\"heatmapgl\":[{\"type\":\"heatmapgl\",\"colorbar\":{\"outlinewidth\":0,\"ticks\":\"\"},\"colorscale\":[[0.0,\"#0d0887\"],[0.1111111111111111,\"#46039f\"],[0.2222222222222222,\"#7201a8\"],[0.3333333333333333,\"#9c179e\"],[0.4444444444444444,\"#bd3786\"],[0.5555555555555556,\"#d8576b\"],[0.6666666666666666,\"#ed7953\"],[0.7777777777777778,\"#fb9f3a\"],[0.8888888888888888,\"#fdca26\"],[1.0,\"#f0f921\"]]}],\"contourcarpet\":[{\"type\":\"contourcarpet\",\"colorbar\":{\"outlinewidth\":0,\"ticks\":\"\"}}],\"contour\":[{\"type\":\"contour\",\"colorbar\":{\"outlinewidth\":0,\"ticks\":\"\"},\"colorscale\":[[0.0,\"#0d0887\"],[0.1111111111111111,\"#46039f\"],[0.2222222222222222,\"#7201a8\"],[0.3333333333333333,\"#9c179e\"],[0.4444444444444444,\"#bd3786\"],[0.5555555555555556,\"#d8576b\"],[0.6666666666666666,\"#ed7953\"],[0.7777777777777778,\"#fb9f3a\"],[0.8888888888888888,\"#fdca26\"],[1.0,\"#f0f921\"]]}],\"surface\":[{\"type\":\"surface\",\"colorbar\":{\"outlinewidth\":0,\"ticks\":\"\"},\"colorscale\":[[0.0,\"#0d0887\"],[0.1111111111111111,\"#46039f\"],[0.2222222222222222,\"#7201a8\"],[0.3333333333333333,\"#9c179e\"],[0.4444444444444444,\"#bd3786\"],[0.5555555555555556,\"#d8576b\"],[0.6666666666666666,\"#ed7953\"],[0.7777777777777778,\"#fb9f3a\"],[0.8888888888888888,\"#fdca26\"],[1.0,\"#f0f921\"]]}],\"mesh3d\":[{\"type\":\"mesh3d\",\"colorbar\":{\"outlinewidth\":0,\"ticks\":\"\"}}],\"scatter\":[{\"fillpattern\":{\"fillmode\":\"overlay\",\"size\":10,\"solidity\":0.2},\"type\":\"scatter\"}],\"parcoords\":[{\"type\":\"parcoords\",\"line\":{\"colorbar\":{\"outlinewidth\":0,\"ticks\":\"\"}}}],\"scatterpolargl\":[{\"type\":\"scatterpolargl\",\"marker\":{\"colorbar\":{\"outlinewidth\":0,\"ticks\":\"\"}}}],\"bar\":[{\"error_x\":{\"color\":\"#2a3f5f\"},\"error_y\":{\"color\":\"#2a3f5f\"},\"marker\":{\"line\":{\"color\":\"#E5ECF6\",\"width\":0.5},\"pattern\":{\"fillmode\":\"overlay\",\"size\":10,\"solidity\":0.2}},\"type\":\"bar\"}],\"scattergeo\":[{\"type\":\"scattergeo\",\"marker\":{\"colorbar\":{\"outlinewidth\":0,\"ticks\":\"\"}}}],\"scatterpolar\":[{\"type\":\"scatterpolar\",\"marker\":{\"colorbar\":{\"outlinewidth\":0,\"ticks\":\"\"}}}],\"histogram\":[{\"marker\":{\"pattern\":{\"fillmode\":\"overlay\",\"size\":10,\"solidity\":0.2}},\"type\":\"histogram\"}],\"scattergl\":[{\"type\":\"scattergl\",\"marker\":{\"colorbar\":{\"outlinewidth\":0,\"ticks\":\"\"}}}],\"scatter3d\":[{\"type\":\"scatter3d\",\"line\":{\"colorbar\":{\"outlinewidth\":0,\"ticks\":\"\"}},\"marker\":{\"colorbar\":{\"outlinewidth\":0,\"ticks\":\"\"}}}],\"scattermapbox\":[{\"type\":\"scattermapbox\",\"marker\":{\"colorbar\":{\"outlinewidth\":0,\"ticks\":\"\"}}}],\"scatterternary\":[{\"type\":\"scatterternary\",\"marker\":{\"colorbar\":{\"outlinewidth\":0,\"ticks\":\"\"}}}],\"scattercarpet\":[{\"type\":\"scattercarpet\",\"marker\":{\"colorbar\":{\"outlinewidth\":0,\"ticks\":\"\"}}}],\"carpet\":[{\"aaxis\":{\"endlinecolor\":\"#2a3f5f\",\"gridcolor\":\"white\",\"linecolor\":\"white\",\"minorgridcolor\":\"white\",\"startlinecolor\":\"#2a3f5f\"},\"baxis\":{\"endlinecolor\":\"#2a3f5f\",\"gridcolor\":\"white\",\"linecolor\":\"white\",\"minorgridcolor\":\"white\",\"startlinecolor\":\"#2a3f5f\"},\"type\":\"carpet\"}],\"table\":[{\"cells\":{\"fill\":{\"color\":\"#EBF0F8\"},\"line\":{\"color\":\"white\"}},\"header\":{\"fill\":{\"color\":\"#C8D4E3\"},\"line\":{\"color\":\"white\"}},\"type\":\"table\"}],\"barpolar\":[{\"marker\":{\"line\":{\"color\":\"#E5ECF6\",\"width\":0.5},\"pattern\":{\"fillmode\":\"overlay\",\"size\":10,\"solidity\":0.2}},\"type\":\"barpolar\"}],\"pie\":[{\"automargin\":true,\"type\":\"pie\"}]},\"layout\":{\"autotypenumbers\":\"strict\",\"colorway\":[\"#636efa\",\"#EF553B\",\"#00cc96\",\"#ab63fa\",\"#FFA15A\",\"#19d3f3\",\"#FF6692\",\"#B6E880\",\"#FF97FF\",\"#FECB52\"],\"font\":{\"color\":\"#2a3f5f\"},\"hovermode\":\"closest\",\"hoverlabel\":{\"align\":\"left\"},\"paper_bgcolor\":\"white\",\"plot_bgcolor\":\"#E5ECF6\",\"polar\":{\"bgcolor\":\"#E5ECF6\",\"angularaxis\":{\"gridcolor\":\"white\",\"linecolor\":\"white\",\"ticks\":\"\"},\"radialaxis\":{\"gridcolor\":\"white\",\"linecolor\":\"white\",\"ticks\":\"\"}},\"ternary\":{\"bgcolor\":\"#E5ECF6\",\"aaxis\":{\"gridcolor\":\"white\",\"linecolor\":\"white\",\"ticks\":\"\"},\"baxis\":{\"gridcolor\":\"white\",\"linecolor\":\"white\",\"ticks\":\"\"},\"caxis\":{\"gridcolor\":\"white\",\"linecolor\":\"white\",\"ticks\":\"\"}},\"coloraxis\":{\"colorbar\":{\"outlinewidth\":0,\"ticks\":\"\"}},\"colorscale\":{\"sequential\":[[0.0,\"#0d0887\"],[0.1111111111111111,\"#46039f\"],[0.2222222222222222,\"#7201a8\"],[0.3333333333333333,\"#9c179e\"],[0.4444444444444444,\"#bd3786\"],[0.5555555555555556,\"#d8576b\"],[0.6666666666666666,\"#ed7953\"],[0.7777777777777778,\"#fb9f3a\"],[0.8888888888888888,\"#fdca26\"],[1.0,\"#f0f921\"]],\"sequentialminus\":[[0.0,\"#0d0887\"],[0.1111111111111111,\"#46039f\"],[0.2222222222222222,\"#7201a8\"],[0.3333333333333333,\"#9c179e\"],[0.4444444444444444,\"#bd3786\"],[0.5555555555555556,\"#d8576b\"],[0.6666666666666666,\"#ed7953\"],[0.7777777777777778,\"#fb9f3a\"],[0.8888888888888888,\"#fdca26\"],[1.0,\"#f0f921\"]],\"diverging\":[[0,\"#8e0152\"],[0.1,\"#c51b7d\"],[0.2,\"#de77ae\"],[0.3,\"#f1b6da\"],[0.4,\"#fde0ef\"],[0.5,\"#f7f7f7\"],[0.6,\"#e6f5d0\"],[0.7,\"#b8e186\"],[0.8,\"#7fbc41\"],[0.9,\"#4d9221\"],[1,\"#276419\"]]},\"xaxis\":{\"gridcolor\":\"white\",\"linecolor\":\"white\",\"ticks\":\"\",\"title\":{\"standoff\":15},\"zerolinecolor\":\"white\",\"automargin\":true,\"zerolinewidth\":2},\"yaxis\":{\"gridcolor\":\"white\",\"linecolor\":\"white\",\"ticks\":\"\",\"title\":{\"standoff\":15},\"zerolinecolor\":\"white\",\"automargin\":true,\"zerolinewidth\":2},\"scene\":{\"xaxis\":{\"backgroundcolor\":\"#E5ECF6\",\"gridcolor\":\"white\",\"linecolor\":\"white\",\"showbackground\":true,\"ticks\":\"\",\"zerolinecolor\":\"white\",\"gridwidth\":2},\"yaxis\":{\"backgroundcolor\":\"#E5ECF6\",\"gridcolor\":\"white\",\"linecolor\":\"white\",\"showbackground\":true,\"ticks\":\"\",\"zerolinecolor\":\"white\",\"gridwidth\":2},\"zaxis\":{\"backgroundcolor\":\"#E5ECF6\",\"gridcolor\":\"white\",\"linecolor\":\"white\",\"showbackground\":true,\"ticks\":\"\",\"zerolinecolor\":\"white\",\"gridwidth\":2}},\"shapedefaults\":{\"line\":{\"color\":\"#2a3f5f\"}},\"annotationdefaults\":{\"arrowcolor\":\"#2a3f5f\",\"arrowhead\":0,\"arrowwidth\":1},\"geo\":{\"bgcolor\":\"white\",\"landcolor\":\"#E5ECF6\",\"subunitcolor\":\"white\",\"showland\":true,\"showlakes\":true,\"lakecolor\":\"white\"},\"title\":{\"x\":0.05},\"mapbox\":{\"style\":\"light\"}}},\"xaxis\":{\"range\":[0,100],\"showticklabels\":false},\"barmode\":\"stack\",\"showlegend\":false,\"yaxis\":{\"showline\":false,\"showticklabels\":false,\"linecolor\":\"white\"}},                        {\"responsive\": true}                    ).then(function(){\n",
       "                            \n",
       "var gd = document.getElementById('e2eec647-3a34-4b2c-8eb6-b2dfa82d9813');\n",
       "var x = new MutationObserver(function (mutations, observer) {{\n",
       "        var display = window.getComputedStyle(gd).display;\n",
       "        if (!display || display === 'none') {{\n",
       "            console.log([gd, 'removed!']);\n",
       "            Plotly.purge(gd);\n",
       "            observer.disconnect();\n",
       "        }}\n",
       "}});\n",
       "\n",
       "// Listen for the removal of the full notebook cells\n",
       "var notebookContainer = gd.closest('#notebook-container');\n",
       "if (notebookContainer) {{\n",
       "    x.observe(notebookContainer, {childList: true});\n",
       "}}\n",
       "\n",
       "// Listen for the clearing of the current output cell\n",
       "var outputEl = gd.closest('.output');\n",
       "if (outputEl) {{\n",
       "    x.observe(outputEl, {childList: true});\n",
       "}}\n",
       "\n",
       "                        })                };                });            </script>        </div>"
      ]
     },
     "metadata": {},
     "output_type": "display_data"
    }
   ],
   "source": [
    "t1=tdf.columns[0]\n",
    "t2=tdf.iloc[0,0]\n",
    "t3=tdf.columns[1]\n",
    "t4=tdf.iloc[0,1]\n",
    "t5='Score'\n",
    "t6='100'\n",
    "#top_row=['t'+str(i) for i in range(1,6)]\n",
    "top_row=[t1,t2,t3,t4,t5,t6]\n",
    "\n",
    "second_row=tdf['Primary Attributes'].tolist()\n",
    "second_row.insert(0,tdf.columns[2])\n",
    "\n",
    "third_row=tdf[tdf.columns[3]].tolist()\n",
    "third_row.insert(0,tdf.columns[3])\n",
    "\n",
    "fourth_row=[tdf.columns[4],tdf.iloc[0,4],tdf.columns[5],tdf.iloc[0,5]]\n",
    "\n",
    "plot_rows=[fourth_row,third_row,second_row,top_row]\n",
    "\n",
    "values=[]\n",
    "for i in plot_rows:\n",
    "    l=[round(100/len(i),2) for j in range(len(i))]\n",
    "    values.append(l)\n",
    "\n",
    "# Normalize the values to represent percentages\n",
    "normalized_values = []\n",
    "for student_values in values:\n",
    "    total = sum(student_values)\n",
    "    percentages = [value / total * 100 for value in student_values]\n",
    "    normalized_values.append(percentages)\n",
    "\n",
    "# Define colors for each attribute\n",
    "#colors = ['#636EFA', '#EF553B', '#00CC96','#112277','#225577','#004488','#2266AA']\n",
    "colors=[['grey','white','grey','white','grey','white'],['blue','yellow','yellow','yellow','yellow','yellow','yellow'],\n",
    "        ['blue','yellow','yellow','yellow','yellow','yellow','yellow'],['grey','white','grey','white','grey','white']]\n",
    "# Create the figure\n",
    "fig = go.Figure()\n",
    "\n",
    "# Add the bar trace for each student\n",
    "for i, bar_values in zip(range(4), normalized_values):\n",
    "    \n",
    "    for bar, percentage, color in zip(plot_rows[i], bar_values, colors[i]):\n",
    "        \n",
    "        fig.add_trace(go.Bar(\n",
    "            y=[i],  # Single bar for each row\n",
    "            x=[percentage],  # The width of the segment\n",
    "            name=bar,\n",
    "            orientation='h',\n",
    "            text=f\"{bar}\",#: {percentage:.1f}%\",  # Text inside the bar\n",
    "            textposition='inside',\n",
    "            insidetextanchor='middle',  # Center-align the text inside the bars\n",
    "            marker=dict(color=color),  # Set the color for each segment\n",
    "            hoverinfo='none'\n",
    "        ))\n",
    "\n",
    "# Update layout\n",
    "fig.update_layout(\n",
    "    #title='Comparison of Students\\' Performance Across Attributes',\n",
    "    #xaxis_title='Percentage',\n",
    "    #yaxis_title='',\n",
    "    barmode='stack',\n",
    "    xaxis=dict(range=[0, 100]),  # Ensure the x-axis ranges from 0 to 100\n",
    "    showlegend=False\n",
    ")\n",
    "fig.update_xaxes(showticklabels=False)\n",
    "fig.update_yaxes(showline=False, showticklabels=False,linecolor='white')\n",
    "config ={'displayModeBar': False}\n",
    "\n",
    "# Display the chart\n",
    "fig.show()\n",
    "\n"
   ]
  },
  {
   "cell_type": "code",
   "execution_count": 56,
   "id": "ce8ed567",
   "metadata": {},
   "outputs": [
    {
     "data": {
      "text/plain": [
       "['Position', 'Left Wing', 'Reference', 'Ideal Player', 'Score', '100']"
      ]
     },
     "execution_count": 56,
     "metadata": {},
     "output_type": "execute_result"
    }
   ],
   "source": [
    "t1=tdf.columns[0]\n",
    "t2=tdf.iloc[0,0]\n",
    "t3=tdf.columns[1]\n",
    "t4=tdf.iloc[0,1]\n",
    "t5='Score'\n",
    "t6='100'\n",
    "#top_row=['t'+str(i) for i in range(1,6)]\n",
    "top_row=[t1,t2,t3,t4,t5,t6]\n",
    "=top_row"
   ]
  },
  {
   "cell_type": "code",
   "execution_count": 57,
   "id": "207d9c9e",
   "metadata": {},
   "outputs": [
    {
     "data": {
      "text/plain": [
       "['Primary Attributes',\n",
       " 'Attacking',\n",
       " 'Passing',\n",
       " 'Pass Types',\n",
       " 'Goal CAs',\n",
       " 'Shot Cas',\n",
       " 'Possession']"
      ]
     },
     "execution_count": 57,
     "metadata": {},
     "output_type": "execute_result"
    }
   ],
   "source": [
    "second_row=tdf['Primary Attributes'].tolist()\n",
    "second_row.insert(0,tdf.columns[2])\n",
    "\n",
    "second_row"
   ]
  },
  {
   "cell_type": "code",
   "execution_count": 29,
   "id": "5a9ad790",
   "metadata": {},
   "outputs": [
    {
     "data": {
      "text/plain": [
       "['Secondary Attributes', 'Shooting', 'Defense', 'Misc', nan, nan, nan]"
      ]
     },
     "execution_count": 29,
     "metadata": {},
     "output_type": "execute_result"
    }
   ],
   "source": [
    "third_row=tdf[tdf.columns[3]].tolist()\n",
    "third_row.insert(0,tdf.columns[3])\n",
    "third_row"
   ]
  },
  {
   "cell_type": "code",
   "execution_count": 32,
   "id": "d049782d",
   "metadata": {},
   "outputs": [
    {
     "data": {
      "text/plain": [
       "['Boosted Attributes', 'Coming Soon', 'Discounted Attributes', 'Coming Soon']"
      ]
     },
     "execution_count": 32,
     "metadata": {},
     "output_type": "execute_result"
    }
   ],
   "source": [
    "fourth_row=[tdf.columns[4],tdf.iloc[0,4],tdf.columns[5],tdf.iloc[0,5]]\n",
    "fourth_row"
   ]
  },
  {
   "cell_type": "code",
   "execution_count": 80,
   "id": "088e6f53",
   "metadata": {},
   "outputs": [
    {
     "ename": "AttributeError",
     "evalue": "'list' object has no attribute 'reversed'",
     "output_type": "error",
     "traceback": [
      "\u001b[1;31m---------------------------------------------------------------------------\u001b[0m",
      "\u001b[1;31mAttributeError\u001b[0m                            Traceback (most recent call last)",
      "Cell \u001b[1;32mIn[80], line 2\u001b[0m\n\u001b[0;32m      1\u001b[0m plot_rows\u001b[38;5;241m=\u001b[39m[top_row,second_row,third_row,fourth_row]\n\u001b[1;32m----> 2\u001b[0m \u001b[43mplot_rows\u001b[49m\u001b[38;5;241;43m.\u001b[39;49m\u001b[43mreversed\u001b[49m()\n",
      "\u001b[1;31mAttributeError\u001b[0m: 'list' object has no attribute 'reversed'"
     ]
    }
   ],
   "source": [
    "plot_rows=[top_row,second_row,third_row,fourth_row]\n"
   ]
  },
  {
   "cell_type": "code",
   "execution_count": 50,
   "id": "4ae279c5",
   "metadata": {},
   "outputs": [
    {
     "data": {
      "text/plain": [
       "[[16.67, 16.67, 16.67, 16.67, 16.67, 16.67],\n",
       " [14.29, 14.29, 14.29, 14.29, 14.29, 14.29, 14.29],\n",
       " [14.29, 14.29, 14.29, 14.29, 14.29, 14.29, 14.29],\n",
       " [25.0, 25.0, 25.0, 25.0]]"
      ]
     },
     "execution_count": 50,
     "metadata": {},
     "output_type": "execute_result"
    }
   ],
   "source": [
    "values=[]\n",
    "for i in plot_rows:\n",
    "    l=[round(100/len(i),2) for j in range(len(i))]\n",
    "    values.append(l)\n",
    "#values.round(3)\n",
    "values"
   ]
  },
  {
   "cell_type": "code",
   "execution_count": null,
   "id": "6219d81d",
   "metadata": {},
   "outputs": [],
   "source": [
    "values = [\n",
    "    [100/len(top_row) for  i in range len(top_row)],  # row 1\n",
    "    [25, 40, 35],  # Student 2\n",
    "    [20, 60, 20],  # Student 3\n",
    "    [35, 45, 20]   # Student 4\n",
    "]\n",
    "\n",
    "# Normalize the values to represent percentages\n",
    "normalized_values = []\n",
    "for student_values in values:\n",
    "    total = sum(student_values)\n",
    "    percentages = [value / total * 100 for value in student_values]\n",
    "    normalized_values.append(percentages)\n",
    "normalized_values"
   ]
  },
  {
   "cell_type": "code",
   "execution_count": null,
   "id": "0908e088",
   "metadata": {},
   "outputs": [],
   "source": []
  },
  {
   "cell_type": "code",
   "execution_count": 87,
   "id": "7bcfdc3c",
   "metadata": {},
   "outputs": [
    {
     "data": {
      "application/vnd.plotly.v1+json": {
       "config": {
        "plotlyServerURL": "https://plot.ly"
       },
       "data": [
        {
         "hoverinfo": "none",
         "insidetextanchor": "middle",
         "marker": {
          "color": "#636EFA"
         },
         "name": "Position",
         "orientation": "h",
         "text": "Position",
         "textposition": "inside",
         "type": "bar",
         "x": [
          25
         ],
         "y": [
          "Student 4"
         ]
        },
        {
         "hoverinfo": "none",
         "insidetextanchor": "middle",
         "marker": {
          "color": "#EF553B"
         },
         "name": "Left Wing",
         "orientation": "h",
         "text": "Left Wing",
         "textposition": "inside",
         "type": "bar",
         "x": [
          25
         ],
         "y": [
          "Student 4"
         ]
        },
        {
         "hoverinfo": "none",
         "insidetextanchor": "middle",
         "marker": {
          "color": "#00CC96"
         },
         "name": "Reference",
         "orientation": "h",
         "text": "Reference",
         "textposition": "inside",
         "type": "bar",
         "x": [
          25
         ],
         "y": [
          "Student 4"
         ]
        },
        {
         "hoverinfo": "none",
         "insidetextanchor": "middle",
         "marker": {
          "color": "#112277"
         },
         "name": "Ideal Player",
         "orientation": "h",
         "text": "Ideal Player",
         "textposition": "inside",
         "type": "bar",
         "x": [
          25
         ],
         "y": [
          "Student 4"
         ]
        },
        {
         "hoverinfo": "none",
         "insidetextanchor": "middle",
         "marker": {
          "color": "#636EFA"
         },
         "name": "Primary Attributes",
         "orientation": "h",
         "text": "Primary Attributes",
         "textposition": "inside",
         "type": "bar",
         "x": [
          14.285714285714288
         ],
         "y": [
          "Student 3"
         ]
        },
        {
         "hoverinfo": "none",
         "insidetextanchor": "middle",
         "marker": {
          "color": "#EF553B"
         },
         "name": "Attacking",
         "orientation": "h",
         "text": "Attacking",
         "textposition": "inside",
         "type": "bar",
         "x": [
          14.285714285714288
         ],
         "y": [
          "Student 3"
         ]
        },
        {
         "hoverinfo": "none",
         "insidetextanchor": "middle",
         "marker": {
          "color": "#00CC96"
         },
         "name": "Passing",
         "orientation": "h",
         "text": "Passing",
         "textposition": "inside",
         "type": "bar",
         "x": [
          14.285714285714288
         ],
         "y": [
          "Student 3"
         ]
        },
        {
         "hoverinfo": "none",
         "insidetextanchor": "middle",
         "marker": {
          "color": "#112277"
         },
         "name": "Pass Types",
         "orientation": "h",
         "text": "Pass Types",
         "textposition": "inside",
         "type": "bar",
         "x": [
          14.285714285714288
         ],
         "y": [
          "Student 3"
         ]
        },
        {
         "hoverinfo": "none",
         "insidetextanchor": "middle",
         "marker": {
          "color": "#225577"
         },
         "name": "Goal CAs",
         "orientation": "h",
         "text": "Goal CAs",
         "textposition": "inside",
         "type": "bar",
         "x": [
          14.285714285714288
         ],
         "y": [
          "Student 3"
         ]
        },
        {
         "hoverinfo": "none",
         "insidetextanchor": "middle",
         "marker": {
          "color": "#004488"
         },
         "name": "Shot Cas",
         "orientation": "h",
         "text": "Shot Cas",
         "textposition": "inside",
         "type": "bar",
         "x": [
          14.285714285714288
         ],
         "y": [
          "Student 3"
         ]
        },
        {
         "hoverinfo": "none",
         "insidetextanchor": "middle",
         "marker": {
          "color": "#2266AA"
         },
         "name": "Possession",
         "orientation": "h",
         "text": "Possession",
         "textposition": "inside",
         "type": "bar",
         "x": [
          14.285714285714288
         ],
         "y": [
          "Student 3"
         ]
        },
        {
         "hoverinfo": "none",
         "insidetextanchor": "middle",
         "marker": {
          "color": "#636EFA"
         },
         "name": "Secondary Attributes",
         "orientation": "h",
         "text": "Secondary Attributes",
         "textposition": "inside",
         "type": "bar",
         "x": [
          14.285714285714288
         ],
         "y": [
          "Student 2"
         ]
        },
        {
         "hoverinfo": "none",
         "insidetextanchor": "middle",
         "marker": {
          "color": "#EF553B"
         },
         "name": "Shooting",
         "orientation": "h",
         "text": "Shooting",
         "textposition": "inside",
         "type": "bar",
         "x": [
          14.285714285714288
         ],
         "y": [
          "Student 2"
         ]
        },
        {
         "hoverinfo": "none",
         "insidetextanchor": "middle",
         "marker": {
          "color": "#00CC96"
         },
         "name": "Defense",
         "orientation": "h",
         "text": "Defense",
         "textposition": "inside",
         "type": "bar",
         "x": [
          14.285714285714288
         ],
         "y": [
          "Student 2"
         ]
        },
        {
         "hoverinfo": "none",
         "insidetextanchor": "middle",
         "marker": {
          "color": "#112277"
         },
         "name": "Misc",
         "orientation": "h",
         "text": "Misc",
         "textposition": "inside",
         "type": "bar",
         "x": [
          14.285714285714288
         ],
         "y": [
          "Student 2"
         ]
        },
        {
         "hoverinfo": "none",
         "insidetextanchor": "middle",
         "marker": {
          "color": "#225577"
         },
         "name": "nan",
         "orientation": "h",
         "text": "nan",
         "textposition": "inside",
         "type": "bar",
         "x": [
          14.285714285714288
         ],
         "y": [
          "Student 2"
         ]
        },
        {
         "hoverinfo": "none",
         "insidetextanchor": "middle",
         "marker": {
          "color": "#004488"
         },
         "name": "nan",
         "orientation": "h",
         "text": "nan",
         "textposition": "inside",
         "type": "bar",
         "x": [
          14.285714285714288
         ],
         "y": [
          "Student 2"
         ]
        },
        {
         "hoverinfo": "none",
         "insidetextanchor": "middle",
         "marker": {
          "color": "#2266AA"
         },
         "name": "nan",
         "orientation": "h",
         "text": "nan",
         "textposition": "inside",
         "type": "bar",
         "x": [
          14.285714285714288
         ],
         "y": [
          "Student 2"
         ]
        },
        {
         "hoverinfo": "none",
         "insidetextanchor": "middle",
         "marker": {
          "color": "#636EFA"
         },
         "name": "Boosted Attributes",
         "orientation": "h",
         "text": "Boosted Attributes",
         "textposition": "inside",
         "type": "bar",
         "x": [
          16.666666666666664
         ],
         "y": [
          "Student 1"
         ]
        },
        {
         "hoverinfo": "none",
         "insidetextanchor": "middle",
         "marker": {
          "color": "#EF553B"
         },
         "name": "Coming Soon",
         "orientation": "h",
         "text": "Coming Soon",
         "textposition": "inside",
         "type": "bar",
         "x": [
          16.666666666666664
         ],
         "y": [
          "Student 1"
         ]
        },
        {
         "hoverinfo": "none",
         "insidetextanchor": "middle",
         "marker": {
          "color": "#00CC96"
         },
         "name": "Discounted Attributes",
         "orientation": "h",
         "text": "Discounted Attributes",
         "textposition": "inside",
         "type": "bar",
         "x": [
          16.666666666666664
         ],
         "y": [
          "Student 1"
         ]
        },
        {
         "hoverinfo": "none",
         "insidetextanchor": "middle",
         "marker": {
          "color": "#112277"
         },
         "name": "Coming Soon",
         "orientation": "h",
         "text": "Coming Soon",
         "textposition": "inside",
         "type": "bar",
         "x": [
          16.666666666666664
         ],
         "y": [
          "Student 1"
         ]
        }
       ],
       "layout": {
        "barmode": "stack",
        "showlegend": false,
        "template": {
         "data": {
          "bar": [
           {
            "error_x": {
             "color": "#2a3f5f"
            },
            "error_y": {
             "color": "#2a3f5f"
            },
            "marker": {
             "line": {
              "color": "#E5ECF6",
              "width": 0.5
             },
             "pattern": {
              "fillmode": "overlay",
              "size": 10,
              "solidity": 0.2
             }
            },
            "type": "bar"
           }
          ],
          "barpolar": [
           {
            "marker": {
             "line": {
              "color": "#E5ECF6",
              "width": 0.5
             },
             "pattern": {
              "fillmode": "overlay",
              "size": 10,
              "solidity": 0.2
             }
            },
            "type": "barpolar"
           }
          ],
          "carpet": [
           {
            "aaxis": {
             "endlinecolor": "#2a3f5f",
             "gridcolor": "white",
             "linecolor": "white",
             "minorgridcolor": "white",
             "startlinecolor": "#2a3f5f"
            },
            "baxis": {
             "endlinecolor": "#2a3f5f",
             "gridcolor": "white",
             "linecolor": "white",
             "minorgridcolor": "white",
             "startlinecolor": "#2a3f5f"
            },
            "type": "carpet"
           }
          ],
          "choropleth": [
           {
            "colorbar": {
             "outlinewidth": 0,
             "ticks": ""
            },
            "type": "choropleth"
           }
          ],
          "contour": [
           {
            "colorbar": {
             "outlinewidth": 0,
             "ticks": ""
            },
            "colorscale": [
             [
              0,
              "#0d0887"
             ],
             [
              0.1111111111111111,
              "#46039f"
             ],
             [
              0.2222222222222222,
              "#7201a8"
             ],
             [
              0.3333333333333333,
              "#9c179e"
             ],
             [
              0.4444444444444444,
              "#bd3786"
             ],
             [
              0.5555555555555556,
              "#d8576b"
             ],
             [
              0.6666666666666666,
              "#ed7953"
             ],
             [
              0.7777777777777778,
              "#fb9f3a"
             ],
             [
              0.8888888888888888,
              "#fdca26"
             ],
             [
              1,
              "#f0f921"
             ]
            ],
            "type": "contour"
           }
          ],
          "contourcarpet": [
           {
            "colorbar": {
             "outlinewidth": 0,
             "ticks": ""
            },
            "type": "contourcarpet"
           }
          ],
          "heatmap": [
           {
            "colorbar": {
             "outlinewidth": 0,
             "ticks": ""
            },
            "colorscale": [
             [
              0,
              "#0d0887"
             ],
             [
              0.1111111111111111,
              "#46039f"
             ],
             [
              0.2222222222222222,
              "#7201a8"
             ],
             [
              0.3333333333333333,
              "#9c179e"
             ],
             [
              0.4444444444444444,
              "#bd3786"
             ],
             [
              0.5555555555555556,
              "#d8576b"
             ],
             [
              0.6666666666666666,
              "#ed7953"
             ],
             [
              0.7777777777777778,
              "#fb9f3a"
             ],
             [
              0.8888888888888888,
              "#fdca26"
             ],
             [
              1,
              "#f0f921"
             ]
            ],
            "type": "heatmap"
           }
          ],
          "heatmapgl": [
           {
            "colorbar": {
             "outlinewidth": 0,
             "ticks": ""
            },
            "colorscale": [
             [
              0,
              "#0d0887"
             ],
             [
              0.1111111111111111,
              "#46039f"
             ],
             [
              0.2222222222222222,
              "#7201a8"
             ],
             [
              0.3333333333333333,
              "#9c179e"
             ],
             [
              0.4444444444444444,
              "#bd3786"
             ],
             [
              0.5555555555555556,
              "#d8576b"
             ],
             [
              0.6666666666666666,
              "#ed7953"
             ],
             [
              0.7777777777777778,
              "#fb9f3a"
             ],
             [
              0.8888888888888888,
              "#fdca26"
             ],
             [
              1,
              "#f0f921"
             ]
            ],
            "type": "heatmapgl"
           }
          ],
          "histogram": [
           {
            "marker": {
             "pattern": {
              "fillmode": "overlay",
              "size": 10,
              "solidity": 0.2
             }
            },
            "type": "histogram"
           }
          ],
          "histogram2d": [
           {
            "colorbar": {
             "outlinewidth": 0,
             "ticks": ""
            },
            "colorscale": [
             [
              0,
              "#0d0887"
             ],
             [
              0.1111111111111111,
              "#46039f"
             ],
             [
              0.2222222222222222,
              "#7201a8"
             ],
             [
              0.3333333333333333,
              "#9c179e"
             ],
             [
              0.4444444444444444,
              "#bd3786"
             ],
             [
              0.5555555555555556,
              "#d8576b"
             ],
             [
              0.6666666666666666,
              "#ed7953"
             ],
             [
              0.7777777777777778,
              "#fb9f3a"
             ],
             [
              0.8888888888888888,
              "#fdca26"
             ],
             [
              1,
              "#f0f921"
             ]
            ],
            "type": "histogram2d"
           }
          ],
          "histogram2dcontour": [
           {
            "colorbar": {
             "outlinewidth": 0,
             "ticks": ""
            },
            "colorscale": [
             [
              0,
              "#0d0887"
             ],
             [
              0.1111111111111111,
              "#46039f"
             ],
             [
              0.2222222222222222,
              "#7201a8"
             ],
             [
              0.3333333333333333,
              "#9c179e"
             ],
             [
              0.4444444444444444,
              "#bd3786"
             ],
             [
              0.5555555555555556,
              "#d8576b"
             ],
             [
              0.6666666666666666,
              "#ed7953"
             ],
             [
              0.7777777777777778,
              "#fb9f3a"
             ],
             [
              0.8888888888888888,
              "#fdca26"
             ],
             [
              1,
              "#f0f921"
             ]
            ],
            "type": "histogram2dcontour"
           }
          ],
          "mesh3d": [
           {
            "colorbar": {
             "outlinewidth": 0,
             "ticks": ""
            },
            "type": "mesh3d"
           }
          ],
          "parcoords": [
           {
            "line": {
             "colorbar": {
              "outlinewidth": 0,
              "ticks": ""
             }
            },
            "type": "parcoords"
           }
          ],
          "pie": [
           {
            "automargin": true,
            "type": "pie"
           }
          ],
          "scatter": [
           {
            "fillpattern": {
             "fillmode": "overlay",
             "size": 10,
             "solidity": 0.2
            },
            "type": "scatter"
           }
          ],
          "scatter3d": [
           {
            "line": {
             "colorbar": {
              "outlinewidth": 0,
              "ticks": ""
             }
            },
            "marker": {
             "colorbar": {
              "outlinewidth": 0,
              "ticks": ""
             }
            },
            "type": "scatter3d"
           }
          ],
          "scattercarpet": [
           {
            "marker": {
             "colorbar": {
              "outlinewidth": 0,
              "ticks": ""
             }
            },
            "type": "scattercarpet"
           }
          ],
          "scattergeo": [
           {
            "marker": {
             "colorbar": {
              "outlinewidth": 0,
              "ticks": ""
             }
            },
            "type": "scattergeo"
           }
          ],
          "scattergl": [
           {
            "marker": {
             "colorbar": {
              "outlinewidth": 0,
              "ticks": ""
             }
            },
            "type": "scattergl"
           }
          ],
          "scattermapbox": [
           {
            "marker": {
             "colorbar": {
              "outlinewidth": 0,
              "ticks": ""
             }
            },
            "type": "scattermapbox"
           }
          ],
          "scatterpolar": [
           {
            "marker": {
             "colorbar": {
              "outlinewidth": 0,
              "ticks": ""
             }
            },
            "type": "scatterpolar"
           }
          ],
          "scatterpolargl": [
           {
            "marker": {
             "colorbar": {
              "outlinewidth": 0,
              "ticks": ""
             }
            },
            "type": "scatterpolargl"
           }
          ],
          "scatterternary": [
           {
            "marker": {
             "colorbar": {
              "outlinewidth": 0,
              "ticks": ""
             }
            },
            "type": "scatterternary"
           }
          ],
          "surface": [
           {
            "colorbar": {
             "outlinewidth": 0,
             "ticks": ""
            },
            "colorscale": [
             [
              0,
              "#0d0887"
             ],
             [
              0.1111111111111111,
              "#46039f"
             ],
             [
              0.2222222222222222,
              "#7201a8"
             ],
             [
              0.3333333333333333,
              "#9c179e"
             ],
             [
              0.4444444444444444,
              "#bd3786"
             ],
             [
              0.5555555555555556,
              "#d8576b"
             ],
             [
              0.6666666666666666,
              "#ed7953"
             ],
             [
              0.7777777777777778,
              "#fb9f3a"
             ],
             [
              0.8888888888888888,
              "#fdca26"
             ],
             [
              1,
              "#f0f921"
             ]
            ],
            "type": "surface"
           }
          ],
          "table": [
           {
            "cells": {
             "fill": {
              "color": "#EBF0F8"
             },
             "line": {
              "color": "white"
             }
            },
            "header": {
             "fill": {
              "color": "#C8D4E3"
             },
             "line": {
              "color": "white"
             }
            },
            "type": "table"
           }
          ]
         },
         "layout": {
          "annotationdefaults": {
           "arrowcolor": "#2a3f5f",
           "arrowhead": 0,
           "arrowwidth": 1
          },
          "autotypenumbers": "strict",
          "coloraxis": {
           "colorbar": {
            "outlinewidth": 0,
            "ticks": ""
           }
          },
          "colorscale": {
           "diverging": [
            [
             0,
             "#8e0152"
            ],
            [
             0.1,
             "#c51b7d"
            ],
            [
             0.2,
             "#de77ae"
            ],
            [
             0.3,
             "#f1b6da"
            ],
            [
             0.4,
             "#fde0ef"
            ],
            [
             0.5,
             "#f7f7f7"
            ],
            [
             0.6,
             "#e6f5d0"
            ],
            [
             0.7,
             "#b8e186"
            ],
            [
             0.8,
             "#7fbc41"
            ],
            [
             0.9,
             "#4d9221"
            ],
            [
             1,
             "#276419"
            ]
           ],
           "sequential": [
            [
             0,
             "#0d0887"
            ],
            [
             0.1111111111111111,
             "#46039f"
            ],
            [
             0.2222222222222222,
             "#7201a8"
            ],
            [
             0.3333333333333333,
             "#9c179e"
            ],
            [
             0.4444444444444444,
             "#bd3786"
            ],
            [
             0.5555555555555556,
             "#d8576b"
            ],
            [
             0.6666666666666666,
             "#ed7953"
            ],
            [
             0.7777777777777778,
             "#fb9f3a"
            ],
            [
             0.8888888888888888,
             "#fdca26"
            ],
            [
             1,
             "#f0f921"
            ]
           ],
           "sequentialminus": [
            [
             0,
             "#0d0887"
            ],
            [
             0.1111111111111111,
             "#46039f"
            ],
            [
             0.2222222222222222,
             "#7201a8"
            ],
            [
             0.3333333333333333,
             "#9c179e"
            ],
            [
             0.4444444444444444,
             "#bd3786"
            ],
            [
             0.5555555555555556,
             "#d8576b"
            ],
            [
             0.6666666666666666,
             "#ed7953"
            ],
            [
             0.7777777777777778,
             "#fb9f3a"
            ],
            [
             0.8888888888888888,
             "#fdca26"
            ],
            [
             1,
             "#f0f921"
            ]
           ]
          },
          "colorway": [
           "#636efa",
           "#EF553B",
           "#00cc96",
           "#ab63fa",
           "#FFA15A",
           "#19d3f3",
           "#FF6692",
           "#B6E880",
           "#FF97FF",
           "#FECB52"
          ],
          "font": {
           "color": "#2a3f5f"
          },
          "geo": {
           "bgcolor": "white",
           "lakecolor": "white",
           "landcolor": "#E5ECF6",
           "showlakes": true,
           "showland": true,
           "subunitcolor": "white"
          },
          "hoverlabel": {
           "align": "left"
          },
          "hovermode": "closest",
          "mapbox": {
           "style": "light"
          },
          "paper_bgcolor": "white",
          "plot_bgcolor": "#E5ECF6",
          "polar": {
           "angularaxis": {
            "gridcolor": "white",
            "linecolor": "white",
            "ticks": ""
           },
           "bgcolor": "#E5ECF6",
           "radialaxis": {
            "gridcolor": "white",
            "linecolor": "white",
            "ticks": ""
           }
          },
          "scene": {
           "xaxis": {
            "backgroundcolor": "#E5ECF6",
            "gridcolor": "white",
            "gridwidth": 2,
            "linecolor": "white",
            "showbackground": true,
            "ticks": "",
            "zerolinecolor": "white"
           },
           "yaxis": {
            "backgroundcolor": "#E5ECF6",
            "gridcolor": "white",
            "gridwidth": 2,
            "linecolor": "white",
            "showbackground": true,
            "ticks": "",
            "zerolinecolor": "white"
           },
           "zaxis": {
            "backgroundcolor": "#E5ECF6",
            "gridcolor": "white",
            "gridwidth": 2,
            "linecolor": "white",
            "showbackground": true,
            "ticks": "",
            "zerolinecolor": "white"
           }
          },
          "shapedefaults": {
           "line": {
            "color": "#2a3f5f"
           }
          },
          "ternary": {
           "aaxis": {
            "gridcolor": "white",
            "linecolor": "white",
            "ticks": ""
           },
           "baxis": {
            "gridcolor": "white",
            "linecolor": "white",
            "ticks": ""
           },
           "bgcolor": "#E5ECF6",
           "caxis": {
            "gridcolor": "white",
            "linecolor": "white",
            "ticks": ""
           }
          },
          "title": {
           "x": 0.05
          },
          "xaxis": {
           "automargin": true,
           "gridcolor": "white",
           "linecolor": "white",
           "ticks": "",
           "title": {
            "standoff": 15
           },
           "zerolinecolor": "white",
           "zerolinewidth": 2
          },
          "yaxis": {
           "automargin": true,
           "gridcolor": "white",
           "linecolor": "white",
           "ticks": "",
           "title": {
            "standoff": 15
           },
           "zerolinecolor": "white",
           "zerolinewidth": 2
          }
         }
        },
        "xaxis": {
         "range": [
          0,
          100
         ],
         "showticklabels": false
        },
        "yaxis": {
         "linecolor": "white",
         "showline": false,
         "showticklabels": false
        }
       }
      },
      "text/html": [
       "<div>                            <div id=\"1151ea3e-03d0-4c84-b681-2ad2e1e9d436\" class=\"plotly-graph-div\" style=\"height:525px; width:100%;\"></div>            <script type=\"text/javascript\">                require([\"plotly\"], function(Plotly) {                    window.PLOTLYENV=window.PLOTLYENV || {};                                    if (document.getElementById(\"1151ea3e-03d0-4c84-b681-2ad2e1e9d436\")) {                    Plotly.newPlot(                        \"1151ea3e-03d0-4c84-b681-2ad2e1e9d436\",                        [{\"hoverinfo\":\"none\",\"insidetextanchor\":\"middle\",\"marker\":{\"color\":\"#636EFA\"},\"name\":\"Position\",\"orientation\":\"h\",\"text\":\"Position\",\"textposition\":\"inside\",\"x\":[25.0],\"y\":[\"Student 4\"],\"type\":\"bar\"},{\"hoverinfo\":\"none\",\"insidetextanchor\":\"middle\",\"marker\":{\"color\":\"#EF553B\"},\"name\":\"Left Wing\",\"orientation\":\"h\",\"text\":\"Left Wing\",\"textposition\":\"inside\",\"x\":[25.0],\"y\":[\"Student 4\"],\"type\":\"bar\"},{\"hoverinfo\":\"none\",\"insidetextanchor\":\"middle\",\"marker\":{\"color\":\"#00CC96\"},\"name\":\"Reference\",\"orientation\":\"h\",\"text\":\"Reference\",\"textposition\":\"inside\",\"x\":[25.0],\"y\":[\"Student 4\"],\"type\":\"bar\"},{\"hoverinfo\":\"none\",\"insidetextanchor\":\"middle\",\"marker\":{\"color\":\"#112277\"},\"name\":\"Ideal Player\",\"orientation\":\"h\",\"text\":\"Ideal Player\",\"textposition\":\"inside\",\"x\":[25.0],\"y\":[\"Student 4\"],\"type\":\"bar\"},{\"hoverinfo\":\"none\",\"insidetextanchor\":\"middle\",\"marker\":{\"color\":\"#636EFA\"},\"name\":\"Primary Attributes\",\"orientation\":\"h\",\"text\":\"Primary Attributes\",\"textposition\":\"inside\",\"x\":[14.285714285714288],\"y\":[\"Student 3\"],\"type\":\"bar\"},{\"hoverinfo\":\"none\",\"insidetextanchor\":\"middle\",\"marker\":{\"color\":\"#EF553B\"},\"name\":\"Attacking\",\"orientation\":\"h\",\"text\":\"Attacking\",\"textposition\":\"inside\",\"x\":[14.285714285714288],\"y\":[\"Student 3\"],\"type\":\"bar\"},{\"hoverinfo\":\"none\",\"insidetextanchor\":\"middle\",\"marker\":{\"color\":\"#00CC96\"},\"name\":\"Passing\",\"orientation\":\"h\",\"text\":\"Passing\",\"textposition\":\"inside\",\"x\":[14.285714285714288],\"y\":[\"Student 3\"],\"type\":\"bar\"},{\"hoverinfo\":\"none\",\"insidetextanchor\":\"middle\",\"marker\":{\"color\":\"#112277\"},\"name\":\"Pass Types\",\"orientation\":\"h\",\"text\":\"Pass Types\",\"textposition\":\"inside\",\"x\":[14.285714285714288],\"y\":[\"Student 3\"],\"type\":\"bar\"},{\"hoverinfo\":\"none\",\"insidetextanchor\":\"middle\",\"marker\":{\"color\":\"#225577\"},\"name\":\"Goal CAs\",\"orientation\":\"h\",\"text\":\"Goal CAs\",\"textposition\":\"inside\",\"x\":[14.285714285714288],\"y\":[\"Student 3\"],\"type\":\"bar\"},{\"hoverinfo\":\"none\",\"insidetextanchor\":\"middle\",\"marker\":{\"color\":\"#004488\"},\"name\":\"Shot Cas\",\"orientation\":\"h\",\"text\":\"Shot Cas\",\"textposition\":\"inside\",\"x\":[14.285714285714288],\"y\":[\"Student 3\"],\"type\":\"bar\"},{\"hoverinfo\":\"none\",\"insidetextanchor\":\"middle\",\"marker\":{\"color\":\"#2266AA\"},\"name\":\"Possession\",\"orientation\":\"h\",\"text\":\"Possession\",\"textposition\":\"inside\",\"x\":[14.285714285714288],\"y\":[\"Student 3\"],\"type\":\"bar\"},{\"hoverinfo\":\"none\",\"insidetextanchor\":\"middle\",\"marker\":{\"color\":\"#636EFA\"},\"name\":\"Secondary Attributes\",\"orientation\":\"h\",\"text\":\"Secondary Attributes\",\"textposition\":\"inside\",\"x\":[14.285714285714288],\"y\":[\"Student 2\"],\"type\":\"bar\"},{\"hoverinfo\":\"none\",\"insidetextanchor\":\"middle\",\"marker\":{\"color\":\"#EF553B\"},\"name\":\"Shooting\",\"orientation\":\"h\",\"text\":\"Shooting\",\"textposition\":\"inside\",\"x\":[14.285714285714288],\"y\":[\"Student 2\"],\"type\":\"bar\"},{\"hoverinfo\":\"none\",\"insidetextanchor\":\"middle\",\"marker\":{\"color\":\"#00CC96\"},\"name\":\"Defense\",\"orientation\":\"h\",\"text\":\"Defense\",\"textposition\":\"inside\",\"x\":[14.285714285714288],\"y\":[\"Student 2\"],\"type\":\"bar\"},{\"hoverinfo\":\"none\",\"insidetextanchor\":\"middle\",\"marker\":{\"color\":\"#112277\"},\"name\":\"Misc\",\"orientation\":\"h\",\"text\":\"Misc\",\"textposition\":\"inside\",\"x\":[14.285714285714288],\"y\":[\"Student 2\"],\"type\":\"bar\"},{\"hoverinfo\":\"none\",\"insidetextanchor\":\"middle\",\"marker\":{\"color\":\"#225577\"},\"name\":\"nan\",\"orientation\":\"h\",\"text\":\"nan\",\"textposition\":\"inside\",\"x\":[14.285714285714288],\"y\":[\"Student 2\"],\"type\":\"bar\"},{\"hoverinfo\":\"none\",\"insidetextanchor\":\"middle\",\"marker\":{\"color\":\"#004488\"},\"name\":\"nan\",\"orientation\":\"h\",\"text\":\"nan\",\"textposition\":\"inside\",\"x\":[14.285714285714288],\"y\":[\"Student 2\"],\"type\":\"bar\"},{\"hoverinfo\":\"none\",\"insidetextanchor\":\"middle\",\"marker\":{\"color\":\"#2266AA\"},\"name\":\"nan\",\"orientation\":\"h\",\"text\":\"nan\",\"textposition\":\"inside\",\"x\":[14.285714285714288],\"y\":[\"Student 2\"],\"type\":\"bar\"},{\"hoverinfo\":\"none\",\"insidetextanchor\":\"middle\",\"marker\":{\"color\":\"#636EFA\"},\"name\":\"Boosted Attributes\",\"orientation\":\"h\",\"text\":\"Boosted Attributes\",\"textposition\":\"inside\",\"x\":[16.666666666666664],\"y\":[\"Student 1\"],\"type\":\"bar\"},{\"hoverinfo\":\"none\",\"insidetextanchor\":\"middle\",\"marker\":{\"color\":\"#EF553B\"},\"name\":\"Coming Soon\",\"orientation\":\"h\",\"text\":\"Coming Soon\",\"textposition\":\"inside\",\"x\":[16.666666666666664],\"y\":[\"Student 1\"],\"type\":\"bar\"},{\"hoverinfo\":\"none\",\"insidetextanchor\":\"middle\",\"marker\":{\"color\":\"#00CC96\"},\"name\":\"Discounted Attributes\",\"orientation\":\"h\",\"text\":\"Discounted Attributes\",\"textposition\":\"inside\",\"x\":[16.666666666666664],\"y\":[\"Student 1\"],\"type\":\"bar\"},{\"hoverinfo\":\"none\",\"insidetextanchor\":\"middle\",\"marker\":{\"color\":\"#112277\"},\"name\":\"Coming Soon\",\"orientation\":\"h\",\"text\":\"Coming Soon\",\"textposition\":\"inside\",\"x\":[16.666666666666664],\"y\":[\"Student 1\"],\"type\":\"bar\"}],                        {\"template\":{\"data\":{\"histogram2dcontour\":[{\"type\":\"histogram2dcontour\",\"colorbar\":{\"outlinewidth\":0,\"ticks\":\"\"},\"colorscale\":[[0.0,\"#0d0887\"],[0.1111111111111111,\"#46039f\"],[0.2222222222222222,\"#7201a8\"],[0.3333333333333333,\"#9c179e\"],[0.4444444444444444,\"#bd3786\"],[0.5555555555555556,\"#d8576b\"],[0.6666666666666666,\"#ed7953\"],[0.7777777777777778,\"#fb9f3a\"],[0.8888888888888888,\"#fdca26\"],[1.0,\"#f0f921\"]]}],\"choropleth\":[{\"type\":\"choropleth\",\"colorbar\":{\"outlinewidth\":0,\"ticks\":\"\"}}],\"histogram2d\":[{\"type\":\"histogram2d\",\"colorbar\":{\"outlinewidth\":0,\"ticks\":\"\"},\"colorscale\":[[0.0,\"#0d0887\"],[0.1111111111111111,\"#46039f\"],[0.2222222222222222,\"#7201a8\"],[0.3333333333333333,\"#9c179e\"],[0.4444444444444444,\"#bd3786\"],[0.5555555555555556,\"#d8576b\"],[0.6666666666666666,\"#ed7953\"],[0.7777777777777778,\"#fb9f3a\"],[0.8888888888888888,\"#fdca26\"],[1.0,\"#f0f921\"]]}],\"heatmap\":[{\"type\":\"heatmap\",\"colorbar\":{\"outlinewidth\":0,\"ticks\":\"\"},\"colorscale\":[[0.0,\"#0d0887\"],[0.1111111111111111,\"#46039f\"],[0.2222222222222222,\"#7201a8\"],[0.3333333333333333,\"#9c179e\"],[0.4444444444444444,\"#bd3786\"],[0.5555555555555556,\"#d8576b\"],[0.6666666666666666,\"#ed7953\"],[0.7777777777777778,\"#fb9f3a\"],[0.8888888888888888,\"#fdca26\"],[1.0,\"#f0f921\"]]}],\"heatmapgl\":[{\"type\":\"heatmapgl\",\"colorbar\":{\"outlinewidth\":0,\"ticks\":\"\"},\"colorscale\":[[0.0,\"#0d0887\"],[0.1111111111111111,\"#46039f\"],[0.2222222222222222,\"#7201a8\"],[0.3333333333333333,\"#9c179e\"],[0.4444444444444444,\"#bd3786\"],[0.5555555555555556,\"#d8576b\"],[0.6666666666666666,\"#ed7953\"],[0.7777777777777778,\"#fb9f3a\"],[0.8888888888888888,\"#fdca26\"],[1.0,\"#f0f921\"]]}],\"contourcarpet\":[{\"type\":\"contourcarpet\",\"colorbar\":{\"outlinewidth\":0,\"ticks\":\"\"}}],\"contour\":[{\"type\":\"contour\",\"colorbar\":{\"outlinewidth\":0,\"ticks\":\"\"},\"colorscale\":[[0.0,\"#0d0887\"],[0.1111111111111111,\"#46039f\"],[0.2222222222222222,\"#7201a8\"],[0.3333333333333333,\"#9c179e\"],[0.4444444444444444,\"#bd3786\"],[0.5555555555555556,\"#d8576b\"],[0.6666666666666666,\"#ed7953\"],[0.7777777777777778,\"#fb9f3a\"],[0.8888888888888888,\"#fdca26\"],[1.0,\"#f0f921\"]]}],\"surface\":[{\"type\":\"surface\",\"colorbar\":{\"outlinewidth\":0,\"ticks\":\"\"},\"colorscale\":[[0.0,\"#0d0887\"],[0.1111111111111111,\"#46039f\"],[0.2222222222222222,\"#7201a8\"],[0.3333333333333333,\"#9c179e\"],[0.4444444444444444,\"#bd3786\"],[0.5555555555555556,\"#d8576b\"],[0.6666666666666666,\"#ed7953\"],[0.7777777777777778,\"#fb9f3a\"],[0.8888888888888888,\"#fdca26\"],[1.0,\"#f0f921\"]]}],\"mesh3d\":[{\"type\":\"mesh3d\",\"colorbar\":{\"outlinewidth\":0,\"ticks\":\"\"}}],\"scatter\":[{\"fillpattern\":{\"fillmode\":\"overlay\",\"size\":10,\"solidity\":0.2},\"type\":\"scatter\"}],\"parcoords\":[{\"type\":\"parcoords\",\"line\":{\"colorbar\":{\"outlinewidth\":0,\"ticks\":\"\"}}}],\"scatterpolargl\":[{\"type\":\"scatterpolargl\",\"marker\":{\"colorbar\":{\"outlinewidth\":0,\"ticks\":\"\"}}}],\"bar\":[{\"error_x\":{\"color\":\"#2a3f5f\"},\"error_y\":{\"color\":\"#2a3f5f\"},\"marker\":{\"line\":{\"color\":\"#E5ECF6\",\"width\":0.5},\"pattern\":{\"fillmode\":\"overlay\",\"size\":10,\"solidity\":0.2}},\"type\":\"bar\"}],\"scattergeo\":[{\"type\":\"scattergeo\",\"marker\":{\"colorbar\":{\"outlinewidth\":0,\"ticks\":\"\"}}}],\"scatterpolar\":[{\"type\":\"scatterpolar\",\"marker\":{\"colorbar\":{\"outlinewidth\":0,\"ticks\":\"\"}}}],\"histogram\":[{\"marker\":{\"pattern\":{\"fillmode\":\"overlay\",\"size\":10,\"solidity\":0.2}},\"type\":\"histogram\"}],\"scattergl\":[{\"type\":\"scattergl\",\"marker\":{\"colorbar\":{\"outlinewidth\":0,\"ticks\":\"\"}}}],\"scatter3d\":[{\"type\":\"scatter3d\",\"line\":{\"colorbar\":{\"outlinewidth\":0,\"ticks\":\"\"}},\"marker\":{\"colorbar\":{\"outlinewidth\":0,\"ticks\":\"\"}}}],\"scattermapbox\":[{\"type\":\"scattermapbox\",\"marker\":{\"colorbar\":{\"outlinewidth\":0,\"ticks\":\"\"}}}],\"scatterternary\":[{\"type\":\"scatterternary\",\"marker\":{\"colorbar\":{\"outlinewidth\":0,\"ticks\":\"\"}}}],\"scattercarpet\":[{\"type\":\"scattercarpet\",\"marker\":{\"colorbar\":{\"outlinewidth\":0,\"ticks\":\"\"}}}],\"carpet\":[{\"aaxis\":{\"endlinecolor\":\"#2a3f5f\",\"gridcolor\":\"white\",\"linecolor\":\"white\",\"minorgridcolor\":\"white\",\"startlinecolor\":\"#2a3f5f\"},\"baxis\":{\"endlinecolor\":\"#2a3f5f\",\"gridcolor\":\"white\",\"linecolor\":\"white\",\"minorgridcolor\":\"white\",\"startlinecolor\":\"#2a3f5f\"},\"type\":\"carpet\"}],\"table\":[{\"cells\":{\"fill\":{\"color\":\"#EBF0F8\"},\"line\":{\"color\":\"white\"}},\"header\":{\"fill\":{\"color\":\"#C8D4E3\"},\"line\":{\"color\":\"white\"}},\"type\":\"table\"}],\"barpolar\":[{\"marker\":{\"line\":{\"color\":\"#E5ECF6\",\"width\":0.5},\"pattern\":{\"fillmode\":\"overlay\",\"size\":10,\"solidity\":0.2}},\"type\":\"barpolar\"}],\"pie\":[{\"automargin\":true,\"type\":\"pie\"}]},\"layout\":{\"autotypenumbers\":\"strict\",\"colorway\":[\"#636efa\",\"#EF553B\",\"#00cc96\",\"#ab63fa\",\"#FFA15A\",\"#19d3f3\",\"#FF6692\",\"#B6E880\",\"#FF97FF\",\"#FECB52\"],\"font\":{\"color\":\"#2a3f5f\"},\"hovermode\":\"closest\",\"hoverlabel\":{\"align\":\"left\"},\"paper_bgcolor\":\"white\",\"plot_bgcolor\":\"#E5ECF6\",\"polar\":{\"bgcolor\":\"#E5ECF6\",\"angularaxis\":{\"gridcolor\":\"white\",\"linecolor\":\"white\",\"ticks\":\"\"},\"radialaxis\":{\"gridcolor\":\"white\",\"linecolor\":\"white\",\"ticks\":\"\"}},\"ternary\":{\"bgcolor\":\"#E5ECF6\",\"aaxis\":{\"gridcolor\":\"white\",\"linecolor\":\"white\",\"ticks\":\"\"},\"baxis\":{\"gridcolor\":\"white\",\"linecolor\":\"white\",\"ticks\":\"\"},\"caxis\":{\"gridcolor\":\"white\",\"linecolor\":\"white\",\"ticks\":\"\"}},\"coloraxis\":{\"colorbar\":{\"outlinewidth\":0,\"ticks\":\"\"}},\"colorscale\":{\"sequential\":[[0.0,\"#0d0887\"],[0.1111111111111111,\"#46039f\"],[0.2222222222222222,\"#7201a8\"],[0.3333333333333333,\"#9c179e\"],[0.4444444444444444,\"#bd3786\"],[0.5555555555555556,\"#d8576b\"],[0.6666666666666666,\"#ed7953\"],[0.7777777777777778,\"#fb9f3a\"],[0.8888888888888888,\"#fdca26\"],[1.0,\"#f0f921\"]],\"sequentialminus\":[[0.0,\"#0d0887\"],[0.1111111111111111,\"#46039f\"],[0.2222222222222222,\"#7201a8\"],[0.3333333333333333,\"#9c179e\"],[0.4444444444444444,\"#bd3786\"],[0.5555555555555556,\"#d8576b\"],[0.6666666666666666,\"#ed7953\"],[0.7777777777777778,\"#fb9f3a\"],[0.8888888888888888,\"#fdca26\"],[1.0,\"#f0f921\"]],\"diverging\":[[0,\"#8e0152\"],[0.1,\"#c51b7d\"],[0.2,\"#de77ae\"],[0.3,\"#f1b6da\"],[0.4,\"#fde0ef\"],[0.5,\"#f7f7f7\"],[0.6,\"#e6f5d0\"],[0.7,\"#b8e186\"],[0.8,\"#7fbc41\"],[0.9,\"#4d9221\"],[1,\"#276419\"]]},\"xaxis\":{\"gridcolor\":\"white\",\"linecolor\":\"white\",\"ticks\":\"\",\"title\":{\"standoff\":15},\"zerolinecolor\":\"white\",\"automargin\":true,\"zerolinewidth\":2},\"yaxis\":{\"gridcolor\":\"white\",\"linecolor\":\"white\",\"ticks\":\"\",\"title\":{\"standoff\":15},\"zerolinecolor\":\"white\",\"automargin\":true,\"zerolinewidth\":2},\"scene\":{\"xaxis\":{\"backgroundcolor\":\"#E5ECF6\",\"gridcolor\":\"white\",\"linecolor\":\"white\",\"showbackground\":true,\"ticks\":\"\",\"zerolinecolor\":\"white\",\"gridwidth\":2},\"yaxis\":{\"backgroundcolor\":\"#E5ECF6\",\"gridcolor\":\"white\",\"linecolor\":\"white\",\"showbackground\":true,\"ticks\":\"\",\"zerolinecolor\":\"white\",\"gridwidth\":2},\"zaxis\":{\"backgroundcolor\":\"#E5ECF6\",\"gridcolor\":\"white\",\"linecolor\":\"white\",\"showbackground\":true,\"ticks\":\"\",\"zerolinecolor\":\"white\",\"gridwidth\":2}},\"shapedefaults\":{\"line\":{\"color\":\"#2a3f5f\"}},\"annotationdefaults\":{\"arrowcolor\":\"#2a3f5f\",\"arrowhead\":0,\"arrowwidth\":1},\"geo\":{\"bgcolor\":\"white\",\"landcolor\":\"#E5ECF6\",\"subunitcolor\":\"white\",\"showland\":true,\"showlakes\":true,\"lakecolor\":\"white\"},\"title\":{\"x\":0.05},\"mapbox\":{\"style\":\"light\"}}},\"xaxis\":{\"range\":[0,100],\"showticklabels\":false},\"barmode\":\"stack\",\"showlegend\":false,\"yaxis\":{\"showline\":false,\"showticklabels\":false,\"linecolor\":\"white\"}},                        {\"responsive\": true}                    ).then(function(){\n",
       "                            \n",
       "var gd = document.getElementById('1151ea3e-03d0-4c84-b681-2ad2e1e9d436');\n",
       "var x = new MutationObserver(function (mutations, observer) {{\n",
       "        var display = window.getComputedStyle(gd).display;\n",
       "        if (!display || display === 'none') {{\n",
       "            console.log([gd, 'removed!']);\n",
       "            Plotly.purge(gd);\n",
       "            observer.disconnect();\n",
       "        }}\n",
       "}});\n",
       "\n",
       "// Listen for the removal of the full notebook cells\n",
       "var notebookContainer = gd.closest('#notebook-container');\n",
       "if (notebookContainer) {{\n",
       "    x.observe(notebookContainer, {childList: true});\n",
       "}}\n",
       "\n",
       "// Listen for the clearing of the current output cell\n",
       "var outputEl = gd.closest('.output');\n",
       "if (outputEl) {{\n",
       "    x.observe(outputEl, {childList: true});\n",
       "}}\n",
       "\n",
       "                        })                };                });            </script>        </div>"
      ]
     },
     "metadata": {},
     "output_type": "display_data"
    }
   ],
   "source": [
    "# Normalize the values to represent percentages\n",
    "normalized_values = []\n",
    "for student_values in values:\n",
    "    total = sum(student_values)\n",
    "    percentages = [value / total * 100 for value in student_values]\n",
    "    normalized_values.append(percentages)\n",
    "\n",
    "# Define colors for each attribute\n",
    "colors = ['#636EFA', '#EF553B', '#00CC96','#112277','#225577','#004488','#2266AA']\n",
    "\n",
    "# Create the figure\n",
    "fig = go.Figure()\n",
    "\n",
    "# Add the bar trace for each student\n",
    "for student, student_values,i in zip(students, normalized_values,range(4)):\n",
    "    for attribute, percentage, color in zip(attributes[i], student_values, colors):\n",
    "        fig.add_trace(go.Bar(\n",
    "            y=[student],  # Single bar for each student\n",
    "            x=[percentage],  # The width of the segment\n",
    "            name=attribute,\n",
    "            orientation='h',\n",
    "            text=f\"{attribute}\",#: {percentage:.1f}%\",  # Text inside the bar\n",
    "            textposition='inside',\n",
    "            insidetextanchor='middle',  # Center-align the text inside the bars\n",
    "            marker=dict(color=color),  # Set the color for each segment\n",
    "            hoverinfo='none'\n",
    "        ))\n",
    "\n",
    "# Update layout\n",
    "fig.update_layout(\n",
    "    #title='Comparison of Students\\' Performance Across Attributes',\n",
    "    #xaxis_title='Percentage',\n",
    "    #yaxis_title='',\n",
    "    barmode='stack',\n",
    "    xaxis=dict(range=[0, 100]),  # Ensure the x-axis ranges from 0 to 100\n",
    "    showlegend=False\n",
    ")\n",
    "fig.update_xaxes(showticklabels=False)\n",
    "fig.update_yaxes(showline=False, showticklabels=False,linecolor='white')\n",
    "config ={'displayModeBar': False}\n",
    "\n",
    "# Display the chart\n",
    "fig.show()\n"
   ]
  },
  {
   "cell_type": "code",
   "execution_count": 39,
   "id": "077a1d28",
   "metadata": {},
   "outputs": [
    {
     "data": {
      "text/plain": [
       "[[30.0, 20.0, 20.0, 30.0],\n",
       " [25.0, 40.0, 35.0],\n",
       " [20.0, 60.0, 20.0],\n",
       " [35.0, 45.0, 20.0]]"
      ]
     },
     "execution_count": 39,
     "metadata": {},
     "output_type": "execute_result"
    }
   ],
   "source": [
    "values = [\n",
    "    [],  # row 1\n",
    "    [25, 40, 35],  # Student 2\n",
    "    [20, 60, 20],  # Student 3\n",
    "    [35, 45, 20]   # Student 4\n",
    "]\n",
    "\n",
    "# Normalize the values to represent percentages\n",
    "normalized_values = []\n",
    "for student_values in values:\n",
    "    total = sum(student_values)\n",
    "    percentages = [value / total * 100 for value in student_values]\n",
    "    normalized_values.append(percentages)\n",
    "normalized_values"
   ]
  },
  {
   "cell_type": "code",
   "execution_count": 60,
   "id": "937adacc",
   "metadata": {},
   "outputs": [],
   "source": [
    "attributes=plot_rows"
   ]
  },
  {
   "cell_type": "code",
   "execution_count": 72,
   "id": "68374ca0",
   "metadata": {},
   "outputs": [
    {
     "name": "stdout",
     "output_type": "stream",
     "text": [
      "Outer Loop 1\n",
      "Student 1 [16.666666666666664, 16.666666666666664, 16.666666666666664, 16.666666666666664, 16.666666666666664, 16.666666666666664]\n",
      "the inner loop count is 0\n",
      "Position 16.666666666666664 #636EFA\n",
      "the inner loop count is 1\n",
      "Left Wing 16.666666666666664 #EF553B\n",
      "the inner loop count is 2\n",
      "Reference 16.666666666666664 #00CC96\n",
      "the inner loop count is 3\n",
      "Ideal Player 16.666666666666664 #112277\n",
      "the inner loop count is 4\n",
      "Score 16.666666666666664 #225577\n",
      "the inner loop count is 5\n",
      "100 16.666666666666664 #004488\n",
      "Outer Loop 1\n",
      "Student 2 [14.285714285714288, 14.285714285714288, 14.285714285714288, 14.285714285714288, 14.285714285714288, 14.285714285714288, 14.285714285714288]\n",
      "the inner loop count is 0\n",
      "Primary Attributes 14.285714285714288 #636EFA\n",
      "the inner loop count is 1\n",
      "Attacking 14.285714285714288 #EF553B\n",
      "the inner loop count is 2\n",
      "Passing 14.285714285714288 #00CC96\n",
      "the inner loop count is 3\n",
      "Pass Types 14.285714285714288 #112277\n",
      "the inner loop count is 4\n",
      "Goal CAs 14.285714285714288 #225577\n",
      "the inner loop count is 5\n",
      "Shot Cas 14.285714285714288 #004488\n",
      "the inner loop count is 6\n",
      "Possession 14.285714285714288 #2266AA\n",
      "Outer Loop 1\n",
      "Student 3 [14.285714285714288, 14.285714285714288, 14.285714285714288, 14.285714285714288, 14.285714285714288, 14.285714285714288, 14.285714285714288]\n",
      "the inner loop count is 0\n",
      "Secondary Attributes 14.285714285714288 #636EFA\n",
      "the inner loop count is 1\n",
      "Shooting 14.285714285714288 #EF553B\n",
      "the inner loop count is 2\n",
      "Defense 14.285714285714288 #00CC96\n",
      "the inner loop count is 3\n",
      "Misc 14.285714285714288 #112277\n",
      "the inner loop count is 4\n",
      "nan 14.285714285714288 #225577\n",
      "the inner loop count is 5\n",
      "nan 14.285714285714288 #004488\n",
      "the inner loop count is 6\n",
      "nan 14.285714285714288 #2266AA\n",
      "Outer Loop 1\n",
      "Student 4 [25.0, 25.0, 25.0, 25.0]\n",
      "the inner loop count is 0\n",
      "Boosted Attributes 25.0 #636EFA\n",
      "the inner loop count is 1\n",
      "Coming Soon 25.0 #EF553B\n",
      "the inner loop count is 2\n",
      "Discounted Attributes 25.0 #00CC96\n",
      "the inner loop count is 3\n",
      "Coming Soon 25.0 #112277\n"
     ]
    }
   ],
   "source": [
    "for student, student_values,i in zip(students, normalized_values,range(len(students))):\n",
    "    print('Outer Loop 1')\n",
    "    print(student,student_values)\n",
    "    innercount=0\n",
    "    for attribute, percentage, color in zip(attributes[i], student_values, colors):\n",
    "        #print( 'Inner Loop  2')\n",
    "        print('the inner loop count is',innercount )\n",
    "        innercount+=1\n",
    "        print(attribute,percentage,color)\n",
    "        \n",
    "        fig.add_trace(go.Bar(\n",
    "            y=[student],  # Single bar for each student\n",
    "            x=[percentage],  # The width of the segment\n",
    "            #name=attribute,\n",
    "            orientation='h',\n",
    "            text=f\"{attribute}: {percentage:.1f}%\",  # Text inside the bar\n",
    "            textposition='inside',\n",
    "            insidetextanchor='middle',  # Center-align the text inside the bars\n",
    "            marker=dict(color=color)  # Set the color for each segment\n",
    "        ))\n"
   ]
  },
  {
   "cell_type": "code",
   "execution_count": null,
   "id": "2322ba53",
   "metadata": {},
   "outputs": [],
   "source": []
  },
  {
   "cell_type": "code",
   "execution_count": 74,
   "id": "9f8c817b",
   "metadata": {},
   "outputs": [
    {
     "ename": "TypeError",
     "evalue": "'NoneType' object is not iterable",
     "output_type": "error",
     "traceback": [
      "\u001b[1;31m---------------------------------------------------------------------------\u001b[0m",
      "\u001b[1;31mTypeError\u001b[0m                                 Traceback (most recent call last)",
      "Cell \u001b[1;32mIn[74], line 27\u001b[0m\n\u001b[0;32m     24\u001b[0m fig \u001b[38;5;241m=\u001b[39m go\u001b[38;5;241m.\u001b[39mFigure()\n\u001b[0;32m     26\u001b[0m \u001b[38;5;66;03m# Add the bar trace for each student\u001b[39;00m\n\u001b[1;32m---> 27\u001b[0m \u001b[38;5;28;01mfor\u001b[39;00m student, student_values ,i \u001b[38;5;129;01min\u001b[39;00m \u001b[38;5;28;43mzip\u001b[39;49m\u001b[43m(\u001b[49m\u001b[43mstudents\u001b[49m\u001b[38;5;241;43m.\u001b[39;49m\u001b[43mreverse\u001b[49m\u001b[43m(\u001b[49m\u001b[43m)\u001b[49m\u001b[43m,\u001b[49m\u001b[43m \u001b[49m\u001b[43mnormalized_values\u001b[49m\u001b[43m,\u001b[49m\u001b[43m \u001b[49m\u001b[38;5;28;43mrange\u001b[39;49m\u001b[43m(\u001b[49m\u001b[38;5;28;43mlen\u001b[39;49m\u001b[43m(\u001b[49m\u001b[43mstudents\u001b[49m\u001b[43m)\u001b[49m\u001b[43m)\u001b[49m\u001b[43m)\u001b[49m:\n\u001b[0;32m     28\u001b[0m     \u001b[38;5;28;01mfor\u001b[39;00m attribute, percentage, color \u001b[38;5;129;01min\u001b[39;00m \u001b[38;5;28mzip\u001b[39m(attributes[i], student_values, colors):\n\u001b[0;32m     29\u001b[0m         fig\u001b[38;5;241m.\u001b[39madd_trace(go\u001b[38;5;241m.\u001b[39mBar(\n\u001b[0;32m     30\u001b[0m             y\u001b[38;5;241m=\u001b[39m[student],  \u001b[38;5;66;03m# Single bar for each student\u001b[39;00m\n\u001b[0;32m     31\u001b[0m             x\u001b[38;5;241m=\u001b[39m[percentage],  \u001b[38;5;66;03m# The width of the segment\u001b[39;00m\n\u001b[1;32m   (...)\u001b[0m\n\u001b[0;32m     37\u001b[0m             marker\u001b[38;5;241m=\u001b[39m\u001b[38;5;28mdict\u001b[39m(color\u001b[38;5;241m=\u001b[39mcolor)  \u001b[38;5;66;03m# Set the color for each segment\u001b[39;00m\n\u001b[0;32m     38\u001b[0m         ))\n",
      "\u001b[1;31mTypeError\u001b[0m: 'NoneType' object is not iterable"
     ]
    }
   ],
   "source": [
    "# Sample data\n",
    "students = ['Student 1', 'Student 2', 'Student 3', 'Student 4']\n",
    "\"\"\"\n",
    "#attributes = ['Attribute 1', 'Attribute 2', 'Attribute 3']\n",
    "values = [\n",
    "    [30, 50, 20],  # Student 1\n",
    "    [25, 40, 35],  # Student 2\n",
    "    [20, 60, 20],  # Student 3\n",
    "    [35, 45, 20]   # Student 4\n",
    "]\n",
    "\"\"\"\n",
    "# Normalize the values to represent percentages\n",
    "normalized_values = []\n",
    "for student_values in values:\n",
    "    total = sum(student_values)\n",
    "    percentages = [value / total * 100 for value in student_values]\n",
    "    normalized_values.append(percentages)\n",
    "\n",
    "# Define colors for each attribute\n",
    "#colors = ['#636EFA', '#EF553B', '#00CC96']\n",
    "colors = ['#636EFA', '#EF553B', '#00CC96','#112277','#225577','#004488','#2266AA']\n",
    "\n",
    "# Create the figure\n",
    "fig = go.Figure()\n",
    "\n",
    "# Add the bar trace for each student\n",
    "for student, student_values ,i in zip(students, normalized_values, range(len(students))):\n",
    "    for attribute, percentage, color in zip(attributes[i], student_values, colors):\n",
    "        fig.add_trace(go.Bar(\n",
    "            y=[student],  # Single bar for each student\n",
    "            x=[percentage],  # The width of the segment\n",
    "            name=attribute,\n",
    "            orientation='h',\n",
    "            text=f\"{attribute}: {percentage:.1f}%\",  # Text inside the bar\n",
    "            textposition='inside',\n",
    "            insidetextanchor='middle',  # Center-align the text inside the bars\n",
    "            marker=dict(color=color)  # Set the color for each segment\n",
    "        ))\n",
    "\n",
    "# Update layout\n",
    "fig.update_layout(\n",
    "    title='Comparison of Students\\' Performance Across Attributes',\n",
    "    xaxis_title='Percentage',\n",
    "    yaxis_title='',\n",
    "    barmode='stack',\n",
    "    xaxis=dict(range=[0, 100]),  # Ensure the x-axis ranges from 0 to 100\n",
    "    showlegend=True\n",
    ")\n",
    "\n",
    "# Display the chart\n",
    "fig.show()\n"
   ]
  },
  {
   "cell_type": "code",
   "execution_count": 1,
   "id": "07df4ef5",
   "metadata": {},
   "outputs": [
    {
     "data": {
      "text/plain": [
       "['Jack_Clarke',\n",
       " 'Bruma',\n",
       " 'Philip_Zinckernagel',\n",
       " 'Andreas_S_Olsen',\n",
       " 'Gaëtan_Perrin',\n",
       " 'Baris_Atik',\n",
       " 'Fabian_Reese',\n",
       " 'Désiré_Doué',\n",
       " 'Antonio_Nusa']"
      ]
     },
     "execution_count": 1,
     "metadata": {},
     "output_type": "execute_result"
    }
   ],
   "source": [
    "Player=['Jack Clarke','Bruma','Philip Zinckernagel','Andreas S Olsen','Gaëtan Perrin',\n",
    "        'Baris Atik','Fabian Reese','Désiré Doué','Antonio Nusa']\n",
    "\n",
    "players=[x.replace(' ', '_') for x in Player]\n",
    "players"
   ]
  },
  {
   "cell_type": "code",
   "execution_count": 3,
   "id": "815d8276",
   "metadata": {},
   "outputs": [
    {
     "data": {
      "text/plain": [
       "['Jack_Clarke.Jpeg',\n",
       " 'Bruma.Jpeg',\n",
       " 'Philip_Zinckernagel.Jpeg',\n",
       " 'Andreas_S_Olsen.Jpeg',\n",
       " 'Gaëtan_Perrin.Jpeg',\n",
       " 'Baris_Atik.Jpeg',\n",
       " 'Fabian_Reese.Jpeg',\n",
       " 'Désiré_Doué.Jpeg',\n",
       " 'Antonio_Nusa.Jpeg']"
      ]
     },
     "execution_count": 3,
     "metadata": {},
     "output_type": "execute_result"
    }
   ],
   "source": [
    "players=[x+'.Jpeg' for x in players]\n",
    "players"
   ]
  },
  {
   "cell_type": "code",
   "execution_count": 4,
   "id": "d88f8fe9",
   "metadata": {},
   "outputs": [
    {
     "ename": "ModuleNotFoundError",
     "evalue": "No module named 'pil'",
     "output_type": "error",
     "traceback": [
      "\u001b[1;31m---------------------------------------------------------------------------\u001b[0m",
      "\u001b[1;31mModuleNotFoundError\u001b[0m                       Traceback (most recent call last)",
      "Cell \u001b[1;32mIn[4], line 1\u001b[0m\n\u001b[1;32m----> 1\u001b[0m \u001b[38;5;28;01mfrom\u001b[39;00m \u001b[38;5;21;01mpil\u001b[39;00m \u001b[38;5;28;01mimport\u001b[39;00m image \u001b[38;5;28;01mas\u001b[39;00m img\n",
      "\u001b[1;31mModuleNotFoundError\u001b[0m: No module named 'pil'"
     ]
    }
   ],
   "source": [
    "from pil import image as img"
   ]
  },
  {
   "cell_type": "code",
   "execution_count": 5,
   "id": "a491556a",
   "metadata": {},
   "outputs": [
    {
     "ename": "FileNotFoundError",
     "evalue": "[Errno 2] No such file or directory: 'player_images/Bruma.jpeg'",
     "output_type": "error",
     "traceback": [
      "\u001b[1;31m---------------------------------------------------------------------------\u001b[0m",
      "\u001b[1;31mFileNotFoundError\u001b[0m                         Traceback (most recent call last)",
      "Cell \u001b[1;32mIn[5], line 4\u001b[0m\n\u001b[0;32m      1\u001b[0m \u001b[38;5;28;01mfrom\u001b[39;00m \u001b[38;5;21;01mIPython\u001b[39;00m\u001b[38;5;21;01m.\u001b[39;00m\u001b[38;5;21;01mdisplay\u001b[39;00m \u001b[38;5;28;01mimport\u001b[39;00m display, Image\n\u001b[0;32m      3\u001b[0m \u001b[38;5;66;03m# Read the image data from a file\u001b[39;00m\n\u001b[1;32m----> 4\u001b[0m \u001b[38;5;28;01mwith\u001b[39;00m \u001b[38;5;28;43mopen\u001b[39;49m\u001b[43m(\u001b[49m\u001b[38;5;124;43m'\u001b[39;49m\u001b[38;5;124;43mplayer_images/Bruma.jpeg\u001b[39;49m\u001b[38;5;124;43m'\u001b[39;49m\u001b[43m,\u001b[49m\u001b[43m \u001b[49m\u001b[38;5;124;43m'\u001b[39;49m\u001b[38;5;124;43mrb\u001b[39;49m\u001b[38;5;124;43m'\u001b[39;49m\u001b[43m)\u001b[49m \u001b[38;5;28;01mas\u001b[39;00m file:\n\u001b[0;32m      5\u001b[0m     image_data \u001b[38;5;241m=\u001b[39m file\u001b[38;5;241m.\u001b[39mread()\n\u001b[0;32m      7\u001b[0m \u001b[38;5;66;03m# Display the image\u001b[39;00m\n",
      "File \u001b[1;32mC:\\ProgramData\\anaconda3\\lib\\site-packages\\IPython\\core\\interactiveshell.py:282\u001b[0m, in \u001b[0;36m_modified_open\u001b[1;34m(file, *args, **kwargs)\u001b[0m\n\u001b[0;32m    275\u001b[0m \u001b[38;5;28;01mif\u001b[39;00m file \u001b[38;5;129;01min\u001b[39;00m {\u001b[38;5;241m0\u001b[39m, \u001b[38;5;241m1\u001b[39m, \u001b[38;5;241m2\u001b[39m}:\n\u001b[0;32m    276\u001b[0m     \u001b[38;5;28;01mraise\u001b[39;00m \u001b[38;5;167;01mValueError\u001b[39;00m(\n\u001b[0;32m    277\u001b[0m         \u001b[38;5;124mf\u001b[39m\u001b[38;5;124m\"\u001b[39m\u001b[38;5;124mIPython won\u001b[39m\u001b[38;5;124m'\u001b[39m\u001b[38;5;124mt let you open fd=\u001b[39m\u001b[38;5;132;01m{\u001b[39;00mfile\u001b[38;5;132;01m}\u001b[39;00m\u001b[38;5;124m by default \u001b[39m\u001b[38;5;124m\"\u001b[39m\n\u001b[0;32m    278\u001b[0m         \u001b[38;5;124m\"\u001b[39m\u001b[38;5;124mas it is likely to crash IPython. If you know what you are doing, \u001b[39m\u001b[38;5;124m\"\u001b[39m\n\u001b[0;32m    279\u001b[0m         \u001b[38;5;124m\"\u001b[39m\u001b[38;5;124myou can use builtins\u001b[39m\u001b[38;5;124m'\u001b[39m\u001b[38;5;124m open.\u001b[39m\u001b[38;5;124m\"\u001b[39m\n\u001b[0;32m    280\u001b[0m     )\n\u001b[1;32m--> 282\u001b[0m \u001b[38;5;28;01mreturn\u001b[39;00m io_open(file, \u001b[38;5;241m*\u001b[39margs, \u001b[38;5;241m*\u001b[39m\u001b[38;5;241m*\u001b[39mkwargs)\n",
      "\u001b[1;31mFileNotFoundError\u001b[0m: [Errno 2] No such file or directory: 'player_images/Bruma.jpeg'"
     ]
    }
   ],
   "source": [
    "from IPython.display import display, Image\n",
    "\n",
    "# Read the image data from a file\n",
    "with open('player_images/Bruma.jpeg', 'rb') as file:\n",
    "    image_data = file.read()\n",
    "\n",
    "# Display the image\n",
    "display(Image(data=image_data))\n"
   ]
  },
  {
   "cell_type": "code",
   "execution_count": 8,
   "id": "d1bea096",
   "metadata": {},
   "outputs": [
    {
     "data": {
      "text/plain": [
       "'C:\\\\Users\\\\senth\\\\Documents\\\\GitHub\\\\Pandas_practice'"
      ]
     },
     "execution_count": 8,
     "metadata": {},
     "output_type": "execute_result"
    }
   ],
   "source": [
    "import os\n",
    "os.getcwd()"
   ]
  },
  {
   "cell_type": "code",
   "execution_count": null,
   "id": "5a26f5bd",
   "metadata": {
    "collapsed": true
   },
   "outputs": [],
   "source": []
  }
 ],
 "metadata": {
  "kernelspec": {
   "display_name": "Python 3 (ipykernel)",
   "language": "python",
   "name": "python3"
  },
  "language_info": {
   "codemirror_mode": {
    "name": "ipython",
    "version": 3
   },
   "file_extension": ".py",
   "mimetype": "text/x-python",
   "name": "python",
   "nbconvert_exporter": "python",
   "pygments_lexer": "ipython3",
   "version": "3.10.9"
  }
 },
 "nbformat": 4,
 "nbformat_minor": 5
}
