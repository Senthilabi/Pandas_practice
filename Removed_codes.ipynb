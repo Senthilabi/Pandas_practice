{
 "cells": [
  {
   "cell_type": "code",
   "execution_count": null,
   "id": "48d4e165",
   "metadata": {},
   "outputs": [],
   "source": []
  },
  {
   "cell_type": "markdown",
   "id": "47e47a5c",
   "metadata": {},
   "source": [
    "Code of AG grid options to select the players"
   ]
  },
  {
   "cell_type": "code",
   "execution_count": null,
   "id": "1c89dc5b",
   "metadata": {},
   "outputs": [],
   "source": [
    "# code for AG grid display\n",
    "gd=GridOptionsBuilder.from_dataframe(psdf1)\n",
    "gd.configure_pagination(enabled=False)\n",
    "gd.configure_selection(selection_mode='single',use_checkbox=True)\n",
    "\n",
    "# Default player in the list to show the score when the page loads\n",
    "selplayers= ['Ideal Left Winger']\n",
    "\n",
    "\n",
    "# Dashboard screen starts here\n",
    "\n",
    "st.sidebar.image('player_images/club_logo.jpg',width=100)\n",
    "\n",
    "st.sidebar.title('Choose your player:soccer:')\n",
    "with st.sidebar:\n",
    "    \n",
    "    stable=AgGrid(psdf1.drop(9), gridOptions=gd.build(),\n",
    "                 update_mode=GridUpdateMode.SELECTION_CHANGED,\n",
    "                  height=300,\n",
    "                   )\n",
    "# try used to by pass if there is no selection\n",
    "try:\n",
    "    selp2=stable['selected_rows'].iloc[0,0]\n",
    "    selplayers.insert(0,selp2)\n",
    "except:\n",
    "    pass"
   ]
  }
 ],
 "metadata": {
  "kernelspec": {
   "display_name": "Python 3 (ipykernel)",
   "language": "python",
   "name": "python3"
  },
  "language_info": {
   "codemirror_mode": {
    "name": "ipython",
    "version": 3
   },
   "file_extension": ".py",
   "mimetype": "text/x-python",
   "name": "python",
   "nbconvert_exporter": "python",
   "pygments_lexer": "ipython3",
   "version": "3.10.9"
  }
 },
 "nbformat": 4,
 "nbformat_minor": 5
}
